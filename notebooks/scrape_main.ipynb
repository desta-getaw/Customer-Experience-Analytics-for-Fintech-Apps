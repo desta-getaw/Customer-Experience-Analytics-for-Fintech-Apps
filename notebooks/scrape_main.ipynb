{
 "cells": [
  {
   "cell_type": "markdown",
   "id": "100da19d",
   "metadata": {},
   "source": [
    "# Scrape and preprocess user reviews\n"
   ]
  },
  {
   "cell_type": "code",
   "execution_count": 1,
   "id": "d2906c16",
   "metadata": {},
   "outputs": [
    {
     "name": "stdout",
     "output_type": "stream",
     "text": [
      "Fetching EN reviews for Dashen Bank...\n",
      "Fetching AM reviews for Dashen Bank...\n",
      "Fetching OM reviews for Dashen Bank...\n",
      "Fetching EN reviews for Bank of Abyssinia...\n",
      "Fetching AM reviews for Bank of Abyssinia...\n",
      "Fetching OM reviews for Bank of Abyssinia...\n",
      "Fetching EN reviews for Commercial Bank of Ethiopia...\n",
      "Fetching AM reviews for Commercial Bank of Ethiopia...\n",
      "Fetching OM reviews for Commercial Bank of Ethiopia...\n",
      "Saved to ../data/raw_reviews.csv\n"
     ]
    },
    {
     "data": {
      "application/vnd.microsoft.datawrangler.viewer.v0+json": {
       "columns": [
        {
         "name": "index",
         "rawType": "int64",
         "type": "integer"
        },
        {
         "name": "review_text",
         "rawType": "object",
         "type": "string"
        },
        {
         "name": "rating",
         "rawType": "int64",
         "type": "integer"
        },
        {
         "name": "date",
         "rawType": "datetime64[ns]",
         "type": "datetime"
        },
        {
         "name": "bank_name",
         "rawType": "object",
         "type": "string"
        },
        {
         "name": "source",
         "rawType": "object",
         "type": "string"
        },
        {
         "name": "language",
         "rawType": "object",
         "type": "string"
        }
       ],
       "ref": "d204db17-df8c-43ca-af4f-1bc13ea34de1",
       "rows": [
        [
         "0",
         "I like this mobile banking app very much. Overall user interface and navigation is awesome. But it lacks instant response when someone deposit or withdraw money.",
         "2",
         "2025-06-07 10:40:29",
         "Dashen Bank",
         "Google Play",
         "en"
        ],
        [
         "1",
         "love",
         "3",
         "2025-06-06 00:15:44",
         "Dashen Bank",
         "Google Play",
         "en"
        ],
        [
         "2",
         "መቸሸጠ",
         "5",
         "2025-06-03 19:40:31",
         "Dashen Bank",
         "Google Play",
         "en"
        ],
        [
         "3",
         "wow",
         "5",
         "2025-06-03 17:30:11",
         "Dashen Bank",
         "Google Play",
         "en"
        ],
        [
         "4",
         "gadaa",
         "5",
         "2025-06-01 17:10:53",
         "Dashen Bank",
         "Google Play",
         "en"
        ]
       ],
       "shape": {
        "columns": 6,
        "rows": 5
       }
      },
      "text/html": [
       "<div>\n",
       "<style scoped>\n",
       "    .dataframe tbody tr th:only-of-type {\n",
       "        vertical-align: middle;\n",
       "    }\n",
       "\n",
       "    .dataframe tbody tr th {\n",
       "        vertical-align: top;\n",
       "    }\n",
       "\n",
       "    .dataframe thead th {\n",
       "        text-align: right;\n",
       "    }\n",
       "</style>\n",
       "<table border=\"1\" class=\"dataframe\">\n",
       "  <thead>\n",
       "    <tr style=\"text-align: right;\">\n",
       "      <th></th>\n",
       "      <th>review_text</th>\n",
       "      <th>rating</th>\n",
       "      <th>date</th>\n",
       "      <th>bank_name</th>\n",
       "      <th>source</th>\n",
       "      <th>language</th>\n",
       "    </tr>\n",
       "  </thead>\n",
       "  <tbody>\n",
       "    <tr>\n",
       "      <th>0</th>\n",
       "      <td>I like this mobile banking app very much. Over...</td>\n",
       "      <td>2</td>\n",
       "      <td>2025-06-07 10:40:29</td>\n",
       "      <td>Dashen Bank</td>\n",
       "      <td>Google Play</td>\n",
       "      <td>en</td>\n",
       "    </tr>\n",
       "    <tr>\n",
       "      <th>1</th>\n",
       "      <td>love</td>\n",
       "      <td>3</td>\n",
       "      <td>2025-06-06 00:15:44</td>\n",
       "      <td>Dashen Bank</td>\n",
       "      <td>Google Play</td>\n",
       "      <td>en</td>\n",
       "    </tr>\n",
       "    <tr>\n",
       "      <th>2</th>\n",
       "      <td>መቸሸጠ</td>\n",
       "      <td>5</td>\n",
       "      <td>2025-06-03 19:40:31</td>\n",
       "      <td>Dashen Bank</td>\n",
       "      <td>Google Play</td>\n",
       "      <td>en</td>\n",
       "    </tr>\n",
       "    <tr>\n",
       "      <th>3</th>\n",
       "      <td>wow</td>\n",
       "      <td>5</td>\n",
       "      <td>2025-06-03 17:30:11</td>\n",
       "      <td>Dashen Bank</td>\n",
       "      <td>Google Play</td>\n",
       "      <td>en</td>\n",
       "    </tr>\n",
       "    <tr>\n",
       "      <th>4</th>\n",
       "      <td>gadaa</td>\n",
       "      <td>5</td>\n",
       "      <td>2025-06-01 17:10:53</td>\n",
       "      <td>Dashen Bank</td>\n",
       "      <td>Google Play</td>\n",
       "      <td>en</td>\n",
       "    </tr>\n",
       "  </tbody>\n",
       "</table>\n",
       "</div>"
      ],
      "text/plain": [
       "                                         review_text  rating  \\\n",
       "0  I like this mobile banking app very much. Over...       2   \n",
       "1                                               love       3   \n",
       "2                                               መቸሸጠ       5   \n",
       "3                                                wow       5   \n",
       "4                                              gadaa       5   \n",
       "\n",
       "                 date    bank_name       source language  \n",
       "0 2025-06-07 10:40:29  Dashen Bank  Google Play       en  \n",
       "1 2025-06-06 00:15:44  Dashen Bank  Google Play       en  \n",
       "2 2025-06-03 19:40:31  Dashen Bank  Google Play       en  \n",
       "3 2025-06-03 17:30:11  Dashen Bank  Google Play       en  \n",
       "4 2025-06-01 17:10:53  Dashen Bank  Google Play       en  "
      ]
     },
     "execution_count": 1,
     "metadata": {},
     "output_type": "execute_result"
    }
   ],
   "source": [
    "# notebooks/scrape_main.ipynb\n",
    "import os\n",
    "import sys\n",
    "\n",
    "# Add the scripts directory to the Python path\n",
    "scripts_path = os.path.abspath('../scripts')\n",
    "if scripts_path not in sys.path:\n",
    "    sys.path.append(scripts_path)\n",
    "\n",
    "try:\n",
    "    from scrape_reviews import ReviewScraper\n",
    "except ModuleNotFoundError:\n",
    "    # If the import fails, provide a helpful error message\n",
    "    raise ModuleNotFoundError(\n",
    "        \"Could not find 'scrape_reviews.py' in '../scripts'. \"\n",
    "        \"Please ensure the file exists and the path is correct.\"\n",
    "    )\n",
    "\n",
    "# Inputs\n",
    "app_ids = {\n",
    "    \"Dashen Bank\": \"com.dashen.dashensuperapp\",\n",
    "    \"Bank of Abyssinia\": \"com.boa.boaMobileBanking\",\n",
    "    \"Commercial Bank of Ethiopia\": \"com.combanketh.mobilebanking\"\n",
    "}\n",
    "languages = ['en', 'am', 'om']\n",
    "output_path = '../data/raw_reviews.csv'\n",
    "\n",
    "# Scraping\n",
    "scraper = ReviewScraper(app_ids, languages, output_path)\n",
    "df_scraped = scraper.scrape_all()\n",
    "scraper.save_to_csv(df_scraped)\n",
    "\n",
    "df_scraped.head()\n"
   ]
  },
  {
   "cell_type": "code",
   "execution_count": 1,
   "id": "3aa2911d",
   "metadata": {
    "vscode": {
     "languageId": "markdown"
    }
   },
   "outputs": [
    {
     "data": {
      "text/markdown": [
       "\n",
       "### Data Preparation Report for `scrape_main-eda.ipynb`\n",
       "\n",
       "- **Data Collection:** User reviews were scraped from Google Play Store for three banking apps: Dashen Bank, Bank of Abyssinia, and Commercial Bank of Ethiopia, using the `ReviewScraper` class.\n",
       "- **Languages:** Reviews were collected in three languages: English (`en`), Amharic (`am`), and Oromo (`om`).\n",
       "- **Data Storage:** The scraped reviews were saved to a CSV file at `../data/raw_reviews.csv`.\n",
       "- **Initial Inspection:** The first few rows of the scraped data were displayed to verify successful data collection and structure.\n"
      ],
      "text/plain": [
       "<IPython.core.display.Markdown object>"
      ]
     },
     "metadata": {},
     "output_type": "display_data"
    },
    {
     "data": {
      "text/markdown": [
       "\n",
       "### Data Preparation, EDA, and Analysis Report for `task1-eda.ipynb`\n",
       "\n",
       "- **Data Preparation:**\n",
       "    - Loaded the raw reviews dataset.\n",
       "    - Cleaned the data by handling missing values, removing duplicates, and standardizing text fields.\n",
       "    - Translated non-English reviews to English for uniform analysis.\n",
       "    - Added metadata such as review length and language detection.\n",
       "\n",
       "- **Exploratory Data Analysis (EDA):**\n",
       "    - Analyzed the distribution of reviews by app and language.\n",
       "    - Visualized review ratings and identified trends over time.\n",
       "    - Explored common keywords and sentiment distribution using word clouds and sentiment analysis.\n",
       "\n",
       "- **Analysis:**\n",
       "    - Compared user sentiment across different banking apps.\n",
       "    - Identified common user concerns and positive feedback themes.\n",
       "    - Highlighted actionable insights for app improvement based on review content and sentiment trends.\n"
      ],
      "text/plain": [
       "<IPython.core.display.Markdown object>"
      ]
     },
     "metadata": {},
     "output_type": "display_data"
    }
   ],
   "source": [
    "from IPython.display import Markdown, display\n",
    "\n",
    "# Report for scrape_main-eda.ipynb\n",
    "scrape_main_eda_report = \"\"\"\n",
    "### Data Preparation Report for `scrape_main-eda.ipynb`\n",
    "\n",
    "- **Data Collection:** User reviews were scraped from Google Play Store for three banking apps: Dashen Bank, Bank of Abyssinia, and Commercial Bank of Ethiopia, using the `ReviewScraper` class.\n",
    "- **Languages:** Reviews were collected in three languages: English (`en`), Amharic (`am`), and Oromo (`om`).\n",
    "- **Data Storage:** The scraped reviews were saved to a CSV file at `../data/raw_reviews.csv`.\n",
    "- **Initial Inspection:** The first few rows of the scraped data were displayed to verify successful data collection and structure.\n",
    "\"\"\"\n",
    "\n",
    "# Report for task1-eda.ipynb\n",
    "task1_eda_report = \"\"\"\n",
    "### Data Preparation, EDA, and Analysis Report for `task1-eda.ipynb`\n",
    "\n",
    "- **Data Preparation:**\n",
    "    - Loaded the raw reviews dataset.\n",
    "    - Cleaned the data by handling missing values, removing duplicates, and standardizing text fields.\n",
    "    - Translated non-English reviews to English for uniform analysis.\n",
    "    - Added metadata such as review length and language detection.\n",
    "\n",
    "- **Exploratory Data Analysis (EDA):**\n",
    "    - Analyzed the distribution of reviews by app and language.\n",
    "    - Visualized review ratings and identified trends over time.\n",
    "    - Explored common keywords and sentiment distribution using word clouds and sentiment analysis.\n",
    "\n",
    "- **Analysis:**\n",
    "    - Compared user sentiment across different banking apps.\n",
    "    - Identified common user concerns and positive feedback themes.\n",
    "    - Highlighted actionable insights for app improvement based on review content and sentiment trends.\n",
    "\"\"\"\n",
    "\n",
    "# Display the reports\n",
    "display(Markdown(scrape_main_eda_report))\n",
    "display(Markdown(task1_eda_report))"
   ]
  }
 ],
 "metadata": {
  "kernelspec": {
   "display_name": ".venv",
   "language": "python",
   "name": "python3"
  },
  "language_info": {
   "codemirror_mode": {
    "name": "ipython",
    "version": 3
   },
   "file_extension": ".py",
   "mimetype": "text/x-python",
   "name": "python",
   "nbconvert_exporter": "python",
   "pygments_lexer": "ipython3",
   "version": "3.13.3"
  }
 },
 "nbformat": 4,
 "nbformat_minor": 5
}
