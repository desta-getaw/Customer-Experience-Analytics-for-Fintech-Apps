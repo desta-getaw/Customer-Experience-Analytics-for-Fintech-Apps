{
 "cells": [
  {
   "cell_type": "markdown",
   "id": "100da19d",
   "metadata": {},
   "source": [
    "# Scrape and preprocess user reviews\n"
   ]
  },
  {
   "cell_type": "code",
   "execution_count": 61,
   "id": "d2906c16",
   "metadata": {},
   "outputs": [
    {
     "name": "stdout",
     "output_type": "stream",
     "text": [
      "Fetching EN reviews for Dashen Bank...\n",
      "Fetching AM reviews for Dashen Bank...\n",
      "Fetching OM reviews for Dashen Bank...\n",
      "Fetching EN reviews for Bank of Abyssinia...\n",
      "Fetching AM reviews for Bank of Abyssinia...\n",
      "Fetching OM reviews for Bank of Abyssinia...\n",
      "Fetching EN reviews for Commercial Bank of Ethiopia...\n",
      "Fetching AM reviews for Commercial Bank of Ethiopia...\n",
      "Fetching OM reviews for Commercial Bank of Ethiopia...\n",
      "Saved to ../data/raw_reviews.csv\n"
     ]
    },
    {
     "data": {
      "application/vnd.microsoft.datawrangler.viewer.v0+json": {
       "columns": [
        {
         "name": "index",
         "rawType": "int64",
         "type": "integer"
        },
        {
         "name": "review_text",
         "rawType": "object",
         "type": "string"
        },
        {
         "name": "rating",
         "rawType": "int64",
         "type": "integer"
        },
        {
         "name": "date",
         "rawType": "datetime64[ns]",
         "type": "datetime"
        },
        {
         "name": "bank_name",
         "rawType": "object",
         "type": "string"
        },
        {
         "name": "source",
         "rawType": "object",
         "type": "string"
        },
        {
         "name": "language",
         "rawType": "object",
         "type": "string"
        }
       ],
       "ref": "581b1a6d-a4cc-473b-85ae-cbdb5aad48a6",
       "rows": [
        [
         "0",
         "love",
         "3",
         "2025-06-06 00:15:44",
         "Dashen Bank",
         "Google Play",
         "en"
        ],
        [
         "1",
         "መቸሸጠ",
         "5",
         "2025-06-03 19:40:31",
         "Dashen Bank",
         "Google Play",
         "en"
        ],
        [
         "2",
         "wow",
         "5",
         "2025-06-03 17:30:11",
         "Dashen Bank",
         "Google Play",
         "en"
        ],
        [
         "3",
         "gadaa",
         "5",
         "2025-06-01 17:10:53",
         "Dashen Bank",
         "Google Play",
         "en"
        ],
        [
         "4",
         "Massive upgrade from the Amole app.",
         "5",
         "2025-05-31 23:04:04",
         "Dashen Bank",
         "Google Play",
         "en"
        ]
       ],
       "shape": {
        "columns": 6,
        "rows": 5
       }
      },
      "text/html": [
       "<div>\n",
       "<style scoped>\n",
       "    .dataframe tbody tr th:only-of-type {\n",
       "        vertical-align: middle;\n",
       "    }\n",
       "\n",
       "    .dataframe tbody tr th {\n",
       "        vertical-align: top;\n",
       "    }\n",
       "\n",
       "    .dataframe thead th {\n",
       "        text-align: right;\n",
       "    }\n",
       "</style>\n",
       "<table border=\"1\" class=\"dataframe\">\n",
       "  <thead>\n",
       "    <tr style=\"text-align: right;\">\n",
       "      <th></th>\n",
       "      <th>review_text</th>\n",
       "      <th>rating</th>\n",
       "      <th>date</th>\n",
       "      <th>bank_name</th>\n",
       "      <th>source</th>\n",
       "      <th>language</th>\n",
       "    </tr>\n",
       "  </thead>\n",
       "  <tbody>\n",
       "    <tr>\n",
       "      <th>0</th>\n",
       "      <td>love</td>\n",
       "      <td>3</td>\n",
       "      <td>2025-06-06 00:15:44</td>\n",
       "      <td>Dashen Bank</td>\n",
       "      <td>Google Play</td>\n",
       "      <td>en</td>\n",
       "    </tr>\n",
       "    <tr>\n",
       "      <th>1</th>\n",
       "      <td>መቸሸጠ</td>\n",
       "      <td>5</td>\n",
       "      <td>2025-06-03 19:40:31</td>\n",
       "      <td>Dashen Bank</td>\n",
       "      <td>Google Play</td>\n",
       "      <td>en</td>\n",
       "    </tr>\n",
       "    <tr>\n",
       "      <th>2</th>\n",
       "      <td>wow</td>\n",
       "      <td>5</td>\n",
       "      <td>2025-06-03 17:30:11</td>\n",
       "      <td>Dashen Bank</td>\n",
       "      <td>Google Play</td>\n",
       "      <td>en</td>\n",
       "    </tr>\n",
       "    <tr>\n",
       "      <th>3</th>\n",
       "      <td>gadaa</td>\n",
       "      <td>5</td>\n",
       "      <td>2025-06-01 17:10:53</td>\n",
       "      <td>Dashen Bank</td>\n",
       "      <td>Google Play</td>\n",
       "      <td>en</td>\n",
       "    </tr>\n",
       "    <tr>\n",
       "      <th>4</th>\n",
       "      <td>Massive upgrade from the Amole app.</td>\n",
       "      <td>5</td>\n",
       "      <td>2025-05-31 23:04:04</td>\n",
       "      <td>Dashen Bank</td>\n",
       "      <td>Google Play</td>\n",
       "      <td>en</td>\n",
       "    </tr>\n",
       "  </tbody>\n",
       "</table>\n",
       "</div>"
      ],
      "text/plain": [
       "                           review_text  rating                date  \\\n",
       "0                                 love       3 2025-06-06 00:15:44   \n",
       "1                                 መቸሸጠ       5 2025-06-03 19:40:31   \n",
       "2                                  wow       5 2025-06-03 17:30:11   \n",
       "3                                gadaa       5 2025-06-01 17:10:53   \n",
       "4  Massive upgrade from the Amole app.       5 2025-05-31 23:04:04   \n",
       "\n",
       "     bank_name       source language  \n",
       "0  Dashen Bank  Google Play       en  \n",
       "1  Dashen Bank  Google Play       en  \n",
       "2  Dashen Bank  Google Play       en  \n",
       "3  Dashen Bank  Google Play       en  \n",
       "4  Dashen Bank  Google Play       en  "
      ]
     },
     "execution_count": 61,
     "metadata": {},
     "output_type": "execute_result"
    }
   ],
   "source": [
    "# notebooks/scrape_main.ipynb\n",
    "import os\n",
    "import sys\n",
    "\n",
    "# Add the scripts directory to the Python path\n",
    "scripts_path = os.path.abspath('../scripts')\n",
    "if scripts_path not in sys.path:\n",
    "    sys.path.append(scripts_path)\n",
    "\n",
    "try:\n",
    "    from scrape_reviews import ReviewScraper\n",
    "except ModuleNotFoundError:\n",
    "    # If the import fails, provide a helpful error message\n",
    "    raise ModuleNotFoundError(\n",
    "        \"Could not find 'scrape_reviews.py' in '../scripts'. \"\n",
    "        \"Please ensure the file exists and the path is correct.\"\n",
    "    )\n",
    "\n",
    "# Inputs\n",
    "app_ids = {\n",
    "    \"Dashen Bank\": \"com.dashen.dashensuperapp\",\n",
    "    \"Bank of Abyssinia\": \"com.boa.boaMobileBanking\",\n",
    "    \"Commercial Bank of Ethiopia\": \"com.combanketh.mobilebanking\"\n",
    "}\n",
    "languages = ['en', 'am', 'om']\n",
    "output_path = '../data/raw_reviews.csv'\n",
    "\n",
    "# Scraping\n",
    "scraper = ReviewScraper(app_ids, languages, output_path)\n",
    "df_scraped = scraper.scrape_all()\n",
    "scraper.save_to_csv(df_scraped)\n",
    "\n",
    "df_scraped.head()\n"
   ]
  }
 ],
 "metadata": {
  "kernelspec": {
   "display_name": ".venv",
   "language": "python",
   "name": "python3"
  },
  "language_info": {
   "codemirror_mode": {
    "name": "ipython",
    "version": 3
   },
   "file_extension": ".py",
   "mimetype": "text/x-python",
   "name": "python",
   "nbconvert_exporter": "python",
   "pygments_lexer": "ipython3",
   "version": "3.13.3"
  }
 },
 "nbformat": 4,
 "nbformat_minor": 5
}
