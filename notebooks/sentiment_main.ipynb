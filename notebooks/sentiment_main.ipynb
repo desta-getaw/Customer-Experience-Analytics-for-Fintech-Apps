{
 "cells": [
  {
   "cell_type": "code",
   "execution_count": 1,
   "id": "a6c003cc",
   "metadata": {},
   "outputs": [
    {
     "name": "stderr",
     "output_type": "stream",
     "text": [
      "d:\\Kifiya AI Master Training Program 5 6 &7\\Week-2\\Customer Experience Analytics for Fintech Apps\\.venv\\Lib\\site-packages\\tqdm\\auto.py:21: TqdmWarning: IProgress not found. Please update jupyter and ipywidgets. See https://ipywidgets.readthedocs.io/en/stable/user_install.html\n",
      "  from .autonotebook import tqdm as notebook_tqdm\n"
     ]
    },
    {
     "data": {
      "application/vnd.microsoft.datawrangler.viewer.v0+json": {
       "columns": [
        {
         "name": "index",
         "rawType": "int64",
         "type": "integer"
        },
        {
         "name": "bank",
         "rawType": "object",
         "type": "string"
        },
        {
         "name": "rating",
         "rawType": "int64",
         "type": "integer"
        },
        {
         "name": "mean_sentiment",
         "rawType": "float64",
         "type": "float"
        },
        {
         "name": "review_count",
         "rawType": "int64",
         "type": "integer"
        }
       ],
       "ref": "26a91834-6fdd-47ec-a0d0-819706ce8dc7",
       "rows": [
        [
         "0",
         "Bank of Abyssinia",
         "1",
         "-0.2632794457274827",
         "433"
        ],
        [
         "1",
         "Bank of Abyssinia",
         "2",
         "0.0",
         "32"
        ],
        [
         "2",
         "Bank of Abyssinia",
         "3",
         "0.4",
         "70"
        ],
        [
         "3",
         "Bank of Abyssinia",
         "4",
         "0.5641025641025641",
         "39"
        ],
        [
         "4",
         "Bank of Abyssinia",
         "5",
         "0.6301369863013698",
         "438"
        ],
        [
         "5",
         "Commercial Bank of Ethiopia",
         "1",
         "-0.027777777777777776",
         "108"
        ],
        [
         "6",
         "Commercial Bank of Ethiopia",
         "2",
         "0.05555555555555555",
         "36"
        ],
        [
         "7",
         "Commercial Bank of Ethiopia",
         "3",
         "0.3103448275862069",
         "58"
        ],
        [
         "8",
         "Commercial Bank of Ethiopia",
         "4",
         "0.5531914893617021",
         "94"
        ],
        [
         "9",
         "Commercial Bank of Ethiopia",
         "5",
         "0.7612137203166227",
         "758"
        ],
        [
         "10",
         "Dashen Bank",
         "1",
         "-0.11764705882352941",
         "68"
        ],
        [
         "11",
         "Dashen Bank",
         "2",
         "-0.08571428571428572",
         "35"
        ],
        [
         "12",
         "Dashen Bank",
         "3",
         "0.6666666666666666",
         "24"
        ],
        [
         "13",
         "Dashen Bank",
         "4",
         "0.5416666666666666",
         "48"
        ],
        [
         "14",
         "Dashen Bank",
         "5",
         "0.8060941828254847",
         "722"
        ]
       ],
       "shape": {
        "columns": 4,
        "rows": 15
       }
      },
      "text/html": [
       "<div>\n",
       "<style scoped>\n",
       "    .dataframe tbody tr th:only-of-type {\n",
       "        vertical-align: middle;\n",
       "    }\n",
       "\n",
       "    .dataframe tbody tr th {\n",
       "        vertical-align: top;\n",
       "    }\n",
       "\n",
       "    .dataframe thead th {\n",
       "        text-align: right;\n",
       "    }\n",
       "</style>\n",
       "<table border=\"1\" class=\"dataframe\">\n",
       "  <thead>\n",
       "    <tr style=\"text-align: right;\">\n",
       "      <th></th>\n",
       "      <th>bank</th>\n",
       "      <th>rating</th>\n",
       "      <th>mean_sentiment</th>\n",
       "      <th>review_count</th>\n",
       "    </tr>\n",
       "  </thead>\n",
       "  <tbody>\n",
       "    <tr>\n",
       "      <th>0</th>\n",
       "      <td>Bank of Abyssinia</td>\n",
       "      <td>1</td>\n",
       "      <td>-0.263279</td>\n",
       "      <td>433</td>\n",
       "    </tr>\n",
       "    <tr>\n",
       "      <th>1</th>\n",
       "      <td>Bank of Abyssinia</td>\n",
       "      <td>2</td>\n",
       "      <td>0.000000</td>\n",
       "      <td>32</td>\n",
       "    </tr>\n",
       "    <tr>\n",
       "      <th>2</th>\n",
       "      <td>Bank of Abyssinia</td>\n",
       "      <td>3</td>\n",
       "      <td>0.400000</td>\n",
       "      <td>70</td>\n",
       "    </tr>\n",
       "    <tr>\n",
       "      <th>3</th>\n",
       "      <td>Bank of Abyssinia</td>\n",
       "      <td>4</td>\n",
       "      <td>0.564103</td>\n",
       "      <td>39</td>\n",
       "    </tr>\n",
       "    <tr>\n",
       "      <th>4</th>\n",
       "      <td>Bank of Abyssinia</td>\n",
       "      <td>5</td>\n",
       "      <td>0.630137</td>\n",
       "      <td>438</td>\n",
       "    </tr>\n",
       "    <tr>\n",
       "      <th>5</th>\n",
       "      <td>Commercial Bank of Ethiopia</td>\n",
       "      <td>1</td>\n",
       "      <td>-0.027778</td>\n",
       "      <td>108</td>\n",
       "    </tr>\n",
       "    <tr>\n",
       "      <th>6</th>\n",
       "      <td>Commercial Bank of Ethiopia</td>\n",
       "      <td>2</td>\n",
       "      <td>0.055556</td>\n",
       "      <td>36</td>\n",
       "    </tr>\n",
       "    <tr>\n",
       "      <th>7</th>\n",
       "      <td>Commercial Bank of Ethiopia</td>\n",
       "      <td>3</td>\n",
       "      <td>0.310345</td>\n",
       "      <td>58</td>\n",
       "    </tr>\n",
       "    <tr>\n",
       "      <th>8</th>\n",
       "      <td>Commercial Bank of Ethiopia</td>\n",
       "      <td>4</td>\n",
       "      <td>0.553191</td>\n",
       "      <td>94</td>\n",
       "    </tr>\n",
       "    <tr>\n",
       "      <th>9</th>\n",
       "      <td>Commercial Bank of Ethiopia</td>\n",
       "      <td>5</td>\n",
       "      <td>0.761214</td>\n",
       "      <td>758</td>\n",
       "    </tr>\n",
       "    <tr>\n",
       "      <th>10</th>\n",
       "      <td>Dashen Bank</td>\n",
       "      <td>1</td>\n",
       "      <td>-0.117647</td>\n",
       "      <td>68</td>\n",
       "    </tr>\n",
       "    <tr>\n",
       "      <th>11</th>\n",
       "      <td>Dashen Bank</td>\n",
       "      <td>2</td>\n",
       "      <td>-0.085714</td>\n",
       "      <td>35</td>\n",
       "    </tr>\n",
       "    <tr>\n",
       "      <th>12</th>\n",
       "      <td>Dashen Bank</td>\n",
       "      <td>3</td>\n",
       "      <td>0.666667</td>\n",
       "      <td>24</td>\n",
       "    </tr>\n",
       "    <tr>\n",
       "      <th>13</th>\n",
       "      <td>Dashen Bank</td>\n",
       "      <td>4</td>\n",
       "      <td>0.541667</td>\n",
       "      <td>48</td>\n",
       "    </tr>\n",
       "    <tr>\n",
       "      <th>14</th>\n",
       "      <td>Dashen Bank</td>\n",
       "      <td>5</td>\n",
       "      <td>0.806094</td>\n",
       "      <td>722</td>\n",
       "    </tr>\n",
       "  </tbody>\n",
       "</table>\n",
       "</div>"
      ],
      "text/plain": [
       "                           bank  rating  mean_sentiment  review_count\n",
       "0             Bank of Abyssinia       1       -0.263279           433\n",
       "1             Bank of Abyssinia       2        0.000000            32\n",
       "2             Bank of Abyssinia       3        0.400000            70\n",
       "3             Bank of Abyssinia       4        0.564103            39\n",
       "4             Bank of Abyssinia       5        0.630137           438\n",
       "5   Commercial Bank of Ethiopia       1       -0.027778           108\n",
       "6   Commercial Bank of Ethiopia       2        0.055556            36\n",
       "7   Commercial Bank of Ethiopia       3        0.310345            58\n",
       "8   Commercial Bank of Ethiopia       4        0.553191            94\n",
       "9   Commercial Bank of Ethiopia       5        0.761214           758\n",
       "10                  Dashen Bank       1       -0.117647            68\n",
       "11                  Dashen Bank       2       -0.085714            35\n",
       "12                  Dashen Bank       3        0.666667            24\n",
       "13                  Dashen Bank       4        0.541667            48\n",
       "14                  Dashen Bank       5        0.806094           722"
      ]
     },
     "execution_count": 1,
     "metadata": {},
     "output_type": "execute_result"
    }
   ],
   "source": [
    "# notebooks/sentiment.ipynb\n",
    "import os\n",
    "import sys\n",
    "import pandas as pd\n",
    "# Add the scripts directory to the Python path\n",
    "scripts_path = os.path.abspath('../scripts')\n",
    "if scripts_path not in sys.path:\n",
    "    sys.path.append(scripts_path)\n",
    "\n",
    "try:\n",
    "    #from scripts.sentiment_analysis import ReviewSentiment\n",
    "    from sentiment_analysis import ReviewSentiment\n",
    "\n",
    "except ModuleNotFoundError:\n",
    "    # If the import fails, provide a helpful error message\n",
    "    raise ModuleNotFoundError(\n",
    "        \"Could not find 'sentiment_analysis.py' in '../scripts'. \"\n",
    "        \"Please ensure the file exists and the path is correct.\"\n",
    "    )\n",
    "\n",
    "\n",
    "# Load preprocessed data\n",
    "df = pd.read_csv(\"../data/cleaned_reviews.csv\")\n",
    "\n",
    "# Initialize sentiment analyzer (choose 'vader' or 'distilbert')\n",
    "analyzer = ReviewSentiment(method='vader')\n",
    "\n",
    "# Apply sentiment analysis\n",
    "df_with_sentiment = analyzer.apply(df)\n",
    "\n",
    "# Save with sentiment\n",
    "df_with_sentiment.to_csv(\"../data/sentiment_reviews.csv\", index=False)\n",
    "\n",
    "# Aggregate sentiment by bank and rating\n",
    "agg_df = analyzer.aggregate(df_with_sentiment)\n",
    "\n",
    "# Save aggregation\n",
    "agg_df.to_csv(\"../data/sentiment_aggregated.csv\", index=False)\n",
    "\n",
    "# Display results\n",
    "agg_df.head(1200)\n",
    "#\n",
    "\n"
   ]
  }
 ],
 "metadata": {
  "kernelspec": {
   "display_name": ".venv",
   "language": "python",
   "name": "python3"
  },
  "language_info": {
   "codemirror_mode": {
    "name": "ipython",
    "version": 3
   },
   "file_extension": ".py",
   "mimetype": "text/x-python",
   "name": "python",
   "nbconvert_exporter": "python",
   "pygments_lexer": "ipython3",
   "version": "3.13.3"
  }
 },
 "nbformat": 4,
 "nbformat_minor": 5
}
