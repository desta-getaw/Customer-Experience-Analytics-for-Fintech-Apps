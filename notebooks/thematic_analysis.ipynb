{
 "cells": [
  {
   "cell_type": "code",
   "execution_count": null,
   "id": "88320a69",
   "metadata": {},
   "outputs": [],
   "source": [
    "import pandas as pd\n",
    "from sklearn.feature_extraction.text import TfidfVectorizer\n",
    "import spacy\n",
    "from collections import defaultdict\n",
    "import numpy as np\n",
    "import seaborn as sns\n",
    "import matplotlib.pyplot as plt"
   ]
  },
  {
   "cell_type": "markdown",
   "id": "9769fe17",
   "metadata": {},
   "source": [
    "📘 Theme Rules"
   ]
  },
  {
   "cell_type": "code",
   "execution_count": 28,
   "id": "8ace7389",
   "metadata": {},
   "outputs": [],
   "source": [
    "nlp = spacy.load(\"en_core_web_sm\")\n",
    "\n",
    "THEME_RULES = {\n",
    "    'Account Access Issues': ['login', 'password', 'authentication', 'sign', 'session'],\n",
    "    'Transaction Performance': ['transfer', 'slow', 'fail', 'timeout', 'crash', 'delay'],\n",
    "    'User Interface & Experience': ['interface', 'ui', 'ux', 'navigation', 'layout', 'design'],\n",
    "    'Customer Support': ['support', 'help', 'assist', 'response', 'service'],\n",
    "    'Feature Requests': ['feature', 'add', 'include', 'missing', 'option', 'functionality']\n",
    "}\n"
   ]
  },
  {
   "cell_type": "code",
   "execution_count": null,
   "id": "7979f351",
   "metadata": {},
   "outputs": [],
   "source": []
  },
  {
   "cell_type": "markdown",
   "id": "4df18484",
   "metadata": {},
   "source": [
    "📘 TF-IDF Keyword Extractor"
   ]
  },
  {
   "cell_type": "code",
   "execution_count": 3,
   "id": "21eef1af",
   "metadata": {},
   "outputs": [],
   "source": [
    "def extract_tfidf_keywords(reviews, max_features=30, ngram_range=(1, 2)):\n",
    "    vectorizer = TfidfVectorizer(stop_words='english', max_features=max_features, ngram_range=ngram_range)\n",
    "    X = vectorizer.fit_transform(reviews)\n",
    "    return list(vectorizer.get_feature_names_out())\n"
   ]
  },
  {
   "cell_type": "markdown",
   "id": "53d8f346",
   "metadata": {},
   "source": [
    "📘 Cell 4: Theme Assignment Function"
   ]
  },
  {
   "cell_type": "code",
   "execution_count": 4,
   "id": "610275b1",
   "metadata": {},
   "outputs": [],
   "source": [
    "def assign_themes(text, theme_rules):\n",
    "    text_lower = text.lower()\n",
    "    matched = []\n",
    "    for theme, keywords in theme_rules.items():\n",
    "        if any(keyword in text_lower for keyword in keywords):\n",
    "            matched.append(theme)\n",
    "    return ', '.join(matched) if matched else 'Other'\n"
   ]
  },
  {
   "cell_type": "markdown",
   "id": "74b1dd39",
   "metadata": {},
   "source": [
    "📘 Cell 5: Theme Tagger Wrapper"
   ]
  },
  {
   "cell_type": "code",
   "execution_count": 5,
   "id": "e48b7056",
   "metadata": {},
   "outputs": [],
   "source": [
    "def apply_theme_analysis(df, theme_rules):\n",
    "    df['identified_themes'] = df['review'].apply(lambda x: assign_themes(str(x), theme_rules))\n",
    "    return df\n"
   ]
  },
  {
   "cell_type": "code",
   "execution_count": 6,
   "id": "afd124d9",
   "metadata": {},
   "outputs": [
    {
     "data": {
      "application/vnd.microsoft.datawrangler.viewer.v0+json": {
       "columns": [
        {
         "name": "index",
         "rawType": "int64",
         "type": "integer"
        },
        {
         "name": "review",
         "rawType": "object",
         "type": "string"
        },
        {
         "name": "rating",
         "rawType": "int64",
         "type": "integer"
        },
        {
         "name": "date",
         "rawType": "object",
         "type": "string"
        },
        {
         "name": "bank",
         "rawType": "object",
         "type": "string"
        },
        {
         "name": "source",
         "rawType": "object",
         "type": "string"
        },
        {
         "name": "language",
         "rawType": "object",
         "type": "string"
        },
        {
         "name": "sentiment",
         "rawType": "int64",
         "type": "integer"
        },
        {
         "name": "identified_themes",
         "rawType": "object",
         "type": "string"
        }
       ],
       "ref": "0985fa1b-c514-4696-b81e-b497328b8722",
       "rows": [
        [
         "0",
         "love",
         "3",
         "2025-06-06",
         "Dashen Bank",
         "Google Play",
         "en",
         "1",
         "Other"
        ],
        [
         "1",
         "መቸሸጠ",
         "5",
         "2025-06-03",
         "Dashen Bank",
         "Google Play",
         "en",
         "0",
         "Other"
        ],
        [
         "2",
         "wow",
         "5",
         "2025-06-03",
         "Dashen Bank",
         "Google Play",
         "en",
         "1",
         "Other"
        ],
        [
         "3",
         "gadaa",
         "5",
         "2025-06-01",
         "Dashen Bank",
         "Google Play",
         "en",
         "0",
         "Other"
        ],
        [
         "4",
         "Massive upgrade from the Amole app.",
         "5",
         "2025-05-31",
         "Dashen Bank",
         "Google Play",
         "en",
         "0",
         "Other"
        ]
       ],
       "shape": {
        "columns": 8,
        "rows": 5
       }
      },
      "text/html": [
       "<div>\n",
       "<style scoped>\n",
       "    .dataframe tbody tr th:only-of-type {\n",
       "        vertical-align: middle;\n",
       "    }\n",
       "\n",
       "    .dataframe tbody tr th {\n",
       "        vertical-align: top;\n",
       "    }\n",
       "\n",
       "    .dataframe thead th {\n",
       "        text-align: right;\n",
       "    }\n",
       "</style>\n",
       "<table border=\"1\" class=\"dataframe\">\n",
       "  <thead>\n",
       "    <tr style=\"text-align: right;\">\n",
       "      <th></th>\n",
       "      <th>review</th>\n",
       "      <th>rating</th>\n",
       "      <th>date</th>\n",
       "      <th>bank</th>\n",
       "      <th>source</th>\n",
       "      <th>language</th>\n",
       "      <th>sentiment</th>\n",
       "      <th>identified_themes</th>\n",
       "    </tr>\n",
       "  </thead>\n",
       "  <tbody>\n",
       "    <tr>\n",
       "      <th>0</th>\n",
       "      <td>love</td>\n",
       "      <td>3</td>\n",
       "      <td>2025-06-06</td>\n",
       "      <td>Dashen Bank</td>\n",
       "      <td>Google Play</td>\n",
       "      <td>en</td>\n",
       "      <td>1</td>\n",
       "      <td>Other</td>\n",
       "    </tr>\n",
       "    <tr>\n",
       "      <th>1</th>\n",
       "      <td>መቸሸጠ</td>\n",
       "      <td>5</td>\n",
       "      <td>2025-06-03</td>\n",
       "      <td>Dashen Bank</td>\n",
       "      <td>Google Play</td>\n",
       "      <td>en</td>\n",
       "      <td>0</td>\n",
       "      <td>Other</td>\n",
       "    </tr>\n",
       "    <tr>\n",
       "      <th>2</th>\n",
       "      <td>wow</td>\n",
       "      <td>5</td>\n",
       "      <td>2025-06-03</td>\n",
       "      <td>Dashen Bank</td>\n",
       "      <td>Google Play</td>\n",
       "      <td>en</td>\n",
       "      <td>1</td>\n",
       "      <td>Other</td>\n",
       "    </tr>\n",
       "    <tr>\n",
       "      <th>3</th>\n",
       "      <td>gadaa</td>\n",
       "      <td>5</td>\n",
       "      <td>2025-06-01</td>\n",
       "      <td>Dashen Bank</td>\n",
       "      <td>Google Play</td>\n",
       "      <td>en</td>\n",
       "      <td>0</td>\n",
       "      <td>Other</td>\n",
       "    </tr>\n",
       "    <tr>\n",
       "      <th>4</th>\n",
       "      <td>Massive upgrade from the Amole app.</td>\n",
       "      <td>5</td>\n",
       "      <td>2025-05-31</td>\n",
       "      <td>Dashen Bank</td>\n",
       "      <td>Google Play</td>\n",
       "      <td>en</td>\n",
       "      <td>0</td>\n",
       "      <td>Other</td>\n",
       "    </tr>\n",
       "  </tbody>\n",
       "</table>\n",
       "</div>"
      ],
      "text/plain": [
       "                                review  rating        date         bank  \\\n",
       "0                                 love       3  2025-06-06  Dashen Bank   \n",
       "1                                 መቸሸጠ       5  2025-06-03  Dashen Bank   \n",
       "2                                  wow       5  2025-06-03  Dashen Bank   \n",
       "3                                gadaa       5  2025-06-01  Dashen Bank   \n",
       "4  Massive upgrade from the Amole app.       5  2025-05-31  Dashen Bank   \n",
       "\n",
       "        source language  sentiment identified_themes  \n",
       "0  Google Play       en          1             Other  \n",
       "1  Google Play       en          0             Other  \n",
       "2  Google Play       en          1             Other  \n",
       "3  Google Play       en          0             Other  \n",
       "4  Google Play       en          0             Other  "
      ]
     },
     "execution_count": 6,
     "metadata": {},
     "output_type": "execute_result"
    }
   ],
   "source": [
    "df = pd.read_csv('../data/sentiment_reviews.csv')\n",
    "df = df.dropna(subset=['review'])\n",
    "df = apply_theme_analysis(df, THEME_RULES)\n",
    "df.to_csv('../data/thematic_reviews.csv', index=False)\n",
    "df.head()\n"
   ]
  },
  {
   "cell_type": "markdown",
   "id": "561b0bd9",
   "metadata": {},
   "source": [
    "📘 TF-IDF Top Keywords by Bank"
   ]
  },
  {
   "cell_type": "code",
   "execution_count": 7,
   "id": "d556a059",
   "metadata": {},
   "outputs": [
    {
     "name": "stdout",
     "output_type": "stream",
     "text": [
      "Top keywords for Dashen Bank:\n",
      "ahead, amazing, app, application, bank, bank super, banking, best, dashen, dashen bank, dashen super, digital, easy, easy use, experience, fast, features, friendly, good, like, mobile, nice, secure, step, super, super app, transactions, use, user, user friendly\n",
      "Top keywords for Bank of Abyssinia:\n",
      "app, application, bank, banking, banking app, best, better, boa, crashes, developer, doesn, doesn work, don, fix, good, like, make, mobile, mobile banking, money, nice, options, service, slow, time, times, use, work, working, worst\n",
      "Top keywords for Commercial Bank of Ethiopia:\n",
      "account, app, application, apps, bank, banking, best, best app, cbe, developer, easy, easy use, excellent, fast, good, good app, great, like, make, mobile, mobile banking, need, nice, ok, screenshot, update, use, work, በጣም, ነው\n"
     ]
    }
   ],
   "source": [
    "banks = df['bank'].unique()\n",
    "for bank in banks:\n",
    "    bank_reviews = df[df['bank'] == bank]['review'].dropna().tolist()\n",
    "    keywords = extract_tfidf_keywords(bank_reviews)\n",
    "    print(f\"Top keywords for {bank}:\")\n",
    "    print(', '.join(keywords))\n"
   ]
  },
  {
   "cell_type": "markdown",
   "id": "70da0d17",
   "metadata": {},
   "source": [
    "📘 Theme Distribution Overall"
   ]
  },
  {
   "cell_type": "code",
   "execution_count": 8,
   "id": "04b0eb6b",
   "metadata": {},
   "outputs": [
    {
     "data": {
      "application/vnd.microsoft.datawrangler.viewer.v0+json": {
       "columns": [
        {
         "name": "identified_themes",
         "rawType": "object",
         "type": "string"
        },
        {
         "name": "count",
         "rawType": "int64",
         "type": "integer"
        }
       ],
       "ref": "d6bdd219-47d0-4edc-8643-d26c3a8f251a",
       "rows": [
        [
         "Other",
         "2431"
        ],
        [
         "Transaction Performance",
         "132"
        ],
        [
         "Feature Requests",
         "132"
        ],
        [
         "Customer Support",
         "84"
        ],
        [
         "User Interface & Experience",
         "34"
        ],
        [
         "Transaction Performance, Feature Requests",
         "26"
        ],
        [
         "User Interface & Experience, Feature Requests",
         "16"
        ],
        [
         "Account Access Issues, User Interface & Experience",
         "16"
        ],
        [
         "Account Access Issues",
         "16"
        ],
        [
         "Customer Support, Feature Requests",
         "12"
        ],
        [
         "Transaction Performance, Customer Support",
         "10"
        ],
        [
         "Transaction Performance, User Interface & Experience, Customer Support, Feature Requests",
         "6"
        ],
        [
         "Transaction Performance, User Interface & Experience, Feature Requests",
         "6"
        ],
        [
         "Account Access Issues, User Interface & Experience, Feature Requests",
         "6"
        ],
        [
         "Account Access Issues, Feature Requests",
         "4"
        ],
        [
         "User Interface & Experience, Customer Support",
         "4"
        ],
        [
         "Account Access Issues, User Interface & Experience, Customer Support",
         "4"
        ],
        [
         "User Interface & Experience, Customer Support, Feature Requests",
         "4"
        ],
        [
         "Account Access Issues, Transaction Performance",
         "4"
        ],
        [
         "Transaction Performance, Customer Support, Feature Requests",
         "4"
        ],
        [
         "Account Access Issues, Transaction Performance, User Interface & Experience",
         "2"
        ],
        [
         "Account Access Issues, User Interface & Experience, Customer Support, Feature Requests",
         "2"
        ],
        [
         "Account Access Issues, Transaction Performance, User Interface & Experience, Customer Support, Feature Requests",
         "2"
        ],
        [
         "Account Access Issues, Customer Support",
         "2"
        ],
        [
         "Account Access Issues, Transaction Performance, Customer Support",
         "2"
        ],
        [
         "Transaction Performance, User Interface & Experience",
         "2"
        ]
       ],
       "shape": {
        "columns": 1,
        "rows": 26
       }
      },
      "text/plain": [
       "identified_themes\n",
       "Other                                                                                                              2431\n",
       "Transaction Performance                                                                                             132\n",
       "Feature Requests                                                                                                    132\n",
       "Customer Support                                                                                                     84\n",
       "User Interface & Experience                                                                                          34\n",
       "Transaction Performance, Feature Requests                                                                            26\n",
       "User Interface & Experience, Feature Requests                                                                        16\n",
       "Account Access Issues, User Interface & Experience                                                                   16\n",
       "Account Access Issues                                                                                                16\n",
       "Customer Support, Feature Requests                                                                                   12\n",
       "Transaction Performance, Customer Support                                                                            10\n",
       "Transaction Performance, User Interface & Experience, Customer Support, Feature Requests                              6\n",
       "Transaction Performance, User Interface & Experience, Feature Requests                                                6\n",
       "Account Access Issues, User Interface & Experience, Feature Requests                                                  6\n",
       "Account Access Issues, Feature Requests                                                                               4\n",
       "User Interface & Experience, Customer Support                                                                         4\n",
       "Account Access Issues, User Interface & Experience, Customer Support                                                  4\n",
       "User Interface & Experience, Customer Support, Feature Requests                                                       4\n",
       "Account Access Issues, Transaction Performance                                                                        4\n",
       "Transaction Performance, Customer Support, Feature Requests                                                           4\n",
       "Account Access Issues, Transaction Performance, User Interface & Experience                                           2\n",
       "Account Access Issues, User Interface & Experience, Customer Support, Feature Requests                                2\n",
       "Account Access Issues, Transaction Performance, User Interface & Experience, Customer Support, Feature Requests       2\n",
       "Account Access Issues, Customer Support                                                                               2\n",
       "Account Access Issues, Transaction Performance, Customer Support                                                      2\n",
       "Transaction Performance, User Interface & Experience                                                                  2\n",
       "Name: count, dtype: int64"
      ]
     },
     "execution_count": 8,
     "metadata": {},
     "output_type": "execute_result"
    }
   ],
   "source": [
    "df['identified_themes'].value_counts()\n"
   ]
  },
  {
   "cell_type": "markdown",
   "id": "cfe0550e",
   "metadata": {},
   "source": [
    "📘Theme Distribution by Bank"
   ]
  },
  {
   "cell_type": "code",
   "execution_count": 9,
   "id": "2d678e46",
   "metadata": {},
   "outputs": [
    {
     "data": {
      "application/vnd.microsoft.datawrangler.viewer.v0+json": {
       "columns": [
        {
         "name": "('bank', 'identified_themes')",
         "rawType": "object",
         "type": "unknown"
        },
        {
         "name": "count",
         "rawType": "int64",
         "type": "integer"
        }
       ],
       "ref": "bd28eeb5-77ae-442e-bcbc-838944fdff7c",
       "rows": [
        [
         "('Bank of Abyssinia', 'Other')",
         "816"
        ],
        [
         "('Bank of Abyssinia', 'Transaction Performance')",
         "58"
        ],
        [
         "('Bank of Abyssinia', 'Customer Support')",
         "36"
        ],
        [
         "('Bank of Abyssinia', 'Feature Requests')",
         "36"
        ],
        [
         "('Bank of Abyssinia', 'Account Access Issues')",
         "12"
        ],
        [
         "('Bank of Abyssinia', 'User Interface & Experience')",
         "12"
        ],
        [
         "('Bank of Abyssinia', 'Transaction Performance, Feature Requests')",
         "10"
        ],
        [
         "('Bank of Abyssinia', 'Transaction Performance, Customer Support')",
         "8"
        ],
        [
         "('Bank of Abyssinia', 'Account Access Issues, Feature Requests')",
         "4"
        ],
        [
         "('Bank of Abyssinia', 'Account Access Issues, Transaction Performance')",
         "4"
        ],
        [
         "('Bank of Abyssinia', 'Customer Support, Feature Requests')",
         "4"
        ],
        [
         "('Bank of Abyssinia', 'Transaction Performance, User Interface & Experience, Feature Requests')",
         "4"
        ],
        [
         "('Bank of Abyssinia', 'Account Access Issues, Transaction Performance, Customer Support')",
         "2"
        ],
        [
         "('Bank of Abyssinia', 'Account Access Issues, User Interface & Experience')",
         "2"
        ],
        [
         "('Bank of Abyssinia', 'Transaction Performance, User Interface & Experience')",
         "2"
        ],
        [
         "('Bank of Abyssinia', 'User Interface & Experience, Feature Requests')",
         "2"
        ],
        [
         "('Commercial Bank of Ethiopia', 'Other')",
         "934"
        ],
        [
         "('Commercial Bank of Ethiopia', 'Transaction Performance')",
         "48"
        ],
        [
         "('Commercial Bank of Ethiopia', 'Feature Requests')",
         "26"
        ],
        [
         "('Commercial Bank of Ethiopia', 'Customer Support')",
         "24"
        ],
        [
         "('Commercial Bank of Ethiopia', 'User Interface & Experience')",
         "6"
        ],
        [
         "('Commercial Bank of Ethiopia', 'Account Access Issues, User Interface & Experience')",
         "4"
        ],
        [
         "('Commercial Bank of Ethiopia', 'Transaction Performance, Feature Requests')",
         "4"
        ],
        [
         "('Commercial Bank of Ethiopia', 'Account Access Issues, User Interface & Experience, Feature Requests')",
         "2"
        ],
        [
         "('Commercial Bank of Ethiopia', 'Transaction Performance, Customer Support')",
         "2"
        ],
        [
         "('Commercial Bank of Ethiopia', 'Transaction Performance, Customer Support, Feature Requests')",
         "2"
        ],
        [
         "('Commercial Bank of Ethiopia', 'User Interface & Experience, Feature Requests')",
         "2"
        ],
        [
         "('Dashen Bank', 'Other')",
         "681"
        ],
        [
         "('Dashen Bank', 'Feature Requests')",
         "70"
        ],
        [
         "('Dashen Bank', 'Transaction Performance')",
         "26"
        ],
        [
         "('Dashen Bank', 'Customer Support')",
         "24"
        ],
        [
         "('Dashen Bank', 'User Interface & Experience')",
         "16"
        ],
        [
         "('Dashen Bank', 'Transaction Performance, Feature Requests')",
         "12"
        ],
        [
         "('Dashen Bank', 'User Interface & Experience, Feature Requests')",
         "12"
        ],
        [
         "('Dashen Bank', 'Account Access Issues, User Interface & Experience')",
         "10"
        ],
        [
         "('Dashen Bank', 'Customer Support, Feature Requests')",
         "8"
        ],
        [
         "('Dashen Bank', 'Transaction Performance, User Interface & Experience, Customer Support, Feature Requests')",
         "6"
        ],
        [
         "('Dashen Bank', 'Account Access Issues')",
         "4"
        ],
        [
         "('Dashen Bank', 'Account Access Issues, User Interface & Experience, Customer Support')",
         "4"
        ],
        [
         "('Dashen Bank', 'Account Access Issues, User Interface & Experience, Feature Requests')",
         "4"
        ],
        [
         "('Dashen Bank', 'User Interface & Experience, Customer Support')",
         "4"
        ],
        [
         "('Dashen Bank', 'User Interface & Experience, Customer Support, Feature Requests')",
         "4"
        ],
        [
         "('Dashen Bank', 'Account Access Issues, Customer Support')",
         "2"
        ],
        [
         "('Dashen Bank', 'Account Access Issues, Transaction Performance, User Interface & Experience')",
         "2"
        ],
        [
         "('Dashen Bank', 'Account Access Issues, Transaction Performance, User Interface & Experience, Customer Support, Feature Requests')",
         "2"
        ],
        [
         "('Dashen Bank', 'Account Access Issues, User Interface & Experience, Customer Support, Feature Requests')",
         "2"
        ],
        [
         "('Dashen Bank', 'Transaction Performance, Customer Support, Feature Requests')",
         "2"
        ],
        [
         "('Dashen Bank', 'Transaction Performance, User Interface & Experience, Feature Requests')",
         "2"
        ]
       ],
       "shape": {
        "columns": 1,
        "rows": 48
       }
      },
      "text/plain": [
       "bank                         identified_themes                                                                                              \n",
       "Bank of Abyssinia            Other                                                                                                              816\n",
       "                             Transaction Performance                                                                                             58\n",
       "                             Customer Support                                                                                                    36\n",
       "                             Feature Requests                                                                                                    36\n",
       "                             Account Access Issues                                                                                               12\n",
       "                             User Interface & Experience                                                                                         12\n",
       "                             Transaction Performance, Feature Requests                                                                           10\n",
       "                             Transaction Performance, Customer Support                                                                            8\n",
       "                             Account Access Issues, Feature Requests                                                                              4\n",
       "                             Account Access Issues, Transaction Performance                                                                       4\n",
       "                             Customer Support, Feature Requests                                                                                   4\n",
       "                             Transaction Performance, User Interface & Experience, Feature Requests                                               4\n",
       "                             Account Access Issues, Transaction Performance, Customer Support                                                     2\n",
       "                             Account Access Issues, User Interface & Experience                                                                   2\n",
       "                             Transaction Performance, User Interface & Experience                                                                 2\n",
       "                             User Interface & Experience, Feature Requests                                                                        2\n",
       "Commercial Bank of Ethiopia  Other                                                                                                              934\n",
       "                             Transaction Performance                                                                                             48\n",
       "                             Feature Requests                                                                                                    26\n",
       "                             Customer Support                                                                                                    24\n",
       "                             User Interface & Experience                                                                                          6\n",
       "                             Account Access Issues, User Interface & Experience                                                                   4\n",
       "                             Transaction Performance, Feature Requests                                                                            4\n",
       "                             Account Access Issues, User Interface & Experience, Feature Requests                                                 2\n",
       "                             Transaction Performance, Customer Support                                                                            2\n",
       "                             Transaction Performance, Customer Support, Feature Requests                                                          2\n",
       "                             User Interface & Experience, Feature Requests                                                                        2\n",
       "Dashen Bank                  Other                                                                                                              681\n",
       "                             Feature Requests                                                                                                    70\n",
       "                             Transaction Performance                                                                                             26\n",
       "                             Customer Support                                                                                                    24\n",
       "                             User Interface & Experience                                                                                         16\n",
       "                             Transaction Performance, Feature Requests                                                                           12\n",
       "                             User Interface & Experience, Feature Requests                                                                       12\n",
       "                             Account Access Issues, User Interface & Experience                                                                  10\n",
       "                             Customer Support, Feature Requests                                                                                   8\n",
       "                             Transaction Performance, User Interface & Experience, Customer Support, Feature Requests                             6\n",
       "                             Account Access Issues                                                                                                4\n",
       "                             Account Access Issues, User Interface & Experience, Customer Support                                                 4\n",
       "                             Account Access Issues, User Interface & Experience, Feature Requests                                                 4\n",
       "                             User Interface & Experience, Customer Support                                                                        4\n",
       "                             User Interface & Experience, Customer Support, Feature Requests                                                      4\n",
       "                             Account Access Issues, Customer Support                                                                              2\n",
       "                             Account Access Issues, Transaction Performance, User Interface & Experience                                          2\n",
       "                             Account Access Issues, Transaction Performance, User Interface & Experience, Customer Support, Feature Requests      2\n",
       "                             Account Access Issues, User Interface & Experience, Customer Support, Feature Requests                               2\n",
       "                             Transaction Performance, Customer Support, Feature Requests                                                          2\n",
       "                             Transaction Performance, User Interface & Experience, Feature Requests                                               2\n",
       "Name: count, dtype: int64"
      ]
     },
     "execution_count": 9,
     "metadata": {},
     "output_type": "execute_result"
    }
   ],
   "source": [
    "df.groupby('bank')['identified_themes'].value_counts()\n"
   ]
  },
  {
   "cell_type": "markdown",
   "id": "ac85508a",
   "metadata": {},
   "source": [
    "Text Cleaning + TF Vectorizer"
   ]
  },
  {
   "cell_type": "code",
   "execution_count": 10,
   "id": "d7c5e17a",
   "metadata": {},
   "outputs": [
    {
     "data": {
      "text/html": [
       "<style>#sk-container-id-1 {\n",
       "  /* Definition of color scheme common for light and dark mode */\n",
       "  --sklearn-color-text: #000;\n",
       "  --sklearn-color-text-muted: #666;\n",
       "  --sklearn-color-line: gray;\n",
       "  /* Definition of color scheme for unfitted estimators */\n",
       "  --sklearn-color-unfitted-level-0: #fff5e6;\n",
       "  --sklearn-color-unfitted-level-1: #f6e4d2;\n",
       "  --sklearn-color-unfitted-level-2: #ffe0b3;\n",
       "  --sklearn-color-unfitted-level-3: chocolate;\n",
       "  /* Definition of color scheme for fitted estimators */\n",
       "  --sklearn-color-fitted-level-0: #f0f8ff;\n",
       "  --sklearn-color-fitted-level-1: #d4ebff;\n",
       "  --sklearn-color-fitted-level-2: #b3dbfd;\n",
       "  --sklearn-color-fitted-level-3: cornflowerblue;\n",
       "\n",
       "  /* Specific color for light theme */\n",
       "  --sklearn-color-text-on-default-background: var(--sg-text-color, var(--theme-code-foreground, var(--jp-content-font-color1, black)));\n",
       "  --sklearn-color-background: var(--sg-background-color, var(--theme-background, var(--jp-layout-color0, white)));\n",
       "  --sklearn-color-border-box: var(--sg-text-color, var(--theme-code-foreground, var(--jp-content-font-color1, black)));\n",
       "  --sklearn-color-icon: #696969;\n",
       "\n",
       "  @media (prefers-color-scheme: dark) {\n",
       "    /* Redefinition of color scheme for dark theme */\n",
       "    --sklearn-color-text-on-default-background: var(--sg-text-color, var(--theme-code-foreground, var(--jp-content-font-color1, white)));\n",
       "    --sklearn-color-background: var(--sg-background-color, var(--theme-background, var(--jp-layout-color0, #111)));\n",
       "    --sklearn-color-border-box: var(--sg-text-color, var(--theme-code-foreground, var(--jp-content-font-color1, white)));\n",
       "    --sklearn-color-icon: #878787;\n",
       "  }\n",
       "}\n",
       "\n",
       "#sk-container-id-1 {\n",
       "  color: var(--sklearn-color-text);\n",
       "}\n",
       "\n",
       "#sk-container-id-1 pre {\n",
       "  padding: 0;\n",
       "}\n",
       "\n",
       "#sk-container-id-1 input.sk-hidden--visually {\n",
       "  border: 0;\n",
       "  clip: rect(1px 1px 1px 1px);\n",
       "  clip: rect(1px, 1px, 1px, 1px);\n",
       "  height: 1px;\n",
       "  margin: -1px;\n",
       "  overflow: hidden;\n",
       "  padding: 0;\n",
       "  position: absolute;\n",
       "  width: 1px;\n",
       "}\n",
       "\n",
       "#sk-container-id-1 div.sk-dashed-wrapped {\n",
       "  border: 1px dashed var(--sklearn-color-line);\n",
       "  margin: 0 0.4em 0.5em 0.4em;\n",
       "  box-sizing: border-box;\n",
       "  padding-bottom: 0.4em;\n",
       "  background-color: var(--sklearn-color-background);\n",
       "}\n",
       "\n",
       "#sk-container-id-1 div.sk-container {\n",
       "  /* jupyter's `normalize.less` sets `[hidden] { display: none; }`\n",
       "     but bootstrap.min.css set `[hidden] { display: none !important; }`\n",
       "     so we also need the `!important` here to be able to override the\n",
       "     default hidden behavior on the sphinx rendered scikit-learn.org.\n",
       "     See: https://github.com/scikit-learn/scikit-learn/issues/21755 */\n",
       "  display: inline-block !important;\n",
       "  position: relative;\n",
       "}\n",
       "\n",
       "#sk-container-id-1 div.sk-text-repr-fallback {\n",
       "  display: none;\n",
       "}\n",
       "\n",
       "div.sk-parallel-item,\n",
       "div.sk-serial,\n",
       "div.sk-item {\n",
       "  /* draw centered vertical line to link estimators */\n",
       "  background-image: linear-gradient(var(--sklearn-color-text-on-default-background), var(--sklearn-color-text-on-default-background));\n",
       "  background-size: 2px 100%;\n",
       "  background-repeat: no-repeat;\n",
       "  background-position: center center;\n",
       "}\n",
       "\n",
       "/* Parallel-specific style estimator block */\n",
       "\n",
       "#sk-container-id-1 div.sk-parallel-item::after {\n",
       "  content: \"\";\n",
       "  width: 100%;\n",
       "  border-bottom: 2px solid var(--sklearn-color-text-on-default-background);\n",
       "  flex-grow: 1;\n",
       "}\n",
       "\n",
       "#sk-container-id-1 div.sk-parallel {\n",
       "  display: flex;\n",
       "  align-items: stretch;\n",
       "  justify-content: center;\n",
       "  background-color: var(--sklearn-color-background);\n",
       "  position: relative;\n",
       "}\n",
       "\n",
       "#sk-container-id-1 div.sk-parallel-item {\n",
       "  display: flex;\n",
       "  flex-direction: column;\n",
       "}\n",
       "\n",
       "#sk-container-id-1 div.sk-parallel-item:first-child::after {\n",
       "  align-self: flex-end;\n",
       "  width: 50%;\n",
       "}\n",
       "\n",
       "#sk-container-id-1 div.sk-parallel-item:last-child::after {\n",
       "  align-self: flex-start;\n",
       "  width: 50%;\n",
       "}\n",
       "\n",
       "#sk-container-id-1 div.sk-parallel-item:only-child::after {\n",
       "  width: 0;\n",
       "}\n",
       "\n",
       "/* Serial-specific style estimator block */\n",
       "\n",
       "#sk-container-id-1 div.sk-serial {\n",
       "  display: flex;\n",
       "  flex-direction: column;\n",
       "  align-items: center;\n",
       "  background-color: var(--sklearn-color-background);\n",
       "  padding-right: 1em;\n",
       "  padding-left: 1em;\n",
       "}\n",
       "\n",
       "\n",
       "/* Toggleable style: style used for estimator/Pipeline/ColumnTransformer box that is\n",
       "clickable and can be expanded/collapsed.\n",
       "- Pipeline and ColumnTransformer use this feature and define the default style\n",
       "- Estimators will overwrite some part of the style using the `sk-estimator` class\n",
       "*/\n",
       "\n",
       "/* Pipeline and ColumnTransformer style (default) */\n",
       "\n",
       "#sk-container-id-1 div.sk-toggleable {\n",
       "  /* Default theme specific background. It is overwritten whether we have a\n",
       "  specific estimator or a Pipeline/ColumnTransformer */\n",
       "  background-color: var(--sklearn-color-background);\n",
       "}\n",
       "\n",
       "/* Toggleable label */\n",
       "#sk-container-id-1 label.sk-toggleable__label {\n",
       "  cursor: pointer;\n",
       "  display: flex;\n",
       "  width: 100%;\n",
       "  margin-bottom: 0;\n",
       "  padding: 0.5em;\n",
       "  box-sizing: border-box;\n",
       "  text-align: center;\n",
       "  align-items: start;\n",
       "  justify-content: space-between;\n",
       "  gap: 0.5em;\n",
       "}\n",
       "\n",
       "#sk-container-id-1 label.sk-toggleable__label .caption {\n",
       "  font-size: 0.6rem;\n",
       "  font-weight: lighter;\n",
       "  color: var(--sklearn-color-text-muted);\n",
       "}\n",
       "\n",
       "#sk-container-id-1 label.sk-toggleable__label-arrow:before {\n",
       "  /* Arrow on the left of the label */\n",
       "  content: \"▸\";\n",
       "  float: left;\n",
       "  margin-right: 0.25em;\n",
       "  color: var(--sklearn-color-icon);\n",
       "}\n",
       "\n",
       "#sk-container-id-1 label.sk-toggleable__label-arrow:hover:before {\n",
       "  color: var(--sklearn-color-text);\n",
       "}\n",
       "\n",
       "/* Toggleable content - dropdown */\n",
       "\n",
       "#sk-container-id-1 div.sk-toggleable__content {\n",
       "  display: none;\n",
       "  text-align: left;\n",
       "  /* unfitted */\n",
       "  background-color: var(--sklearn-color-unfitted-level-0);\n",
       "}\n",
       "\n",
       "#sk-container-id-1 div.sk-toggleable__content.fitted {\n",
       "  /* fitted */\n",
       "  background-color: var(--sklearn-color-fitted-level-0);\n",
       "}\n",
       "\n",
       "#sk-container-id-1 div.sk-toggleable__content pre {\n",
       "  margin: 0.2em;\n",
       "  border-radius: 0.25em;\n",
       "  color: var(--sklearn-color-text);\n",
       "  /* unfitted */\n",
       "  background-color: var(--sklearn-color-unfitted-level-0);\n",
       "}\n",
       "\n",
       "#sk-container-id-1 div.sk-toggleable__content.fitted pre {\n",
       "  /* unfitted */\n",
       "  background-color: var(--sklearn-color-fitted-level-0);\n",
       "}\n",
       "\n",
       "#sk-container-id-1 input.sk-toggleable__control:checked~div.sk-toggleable__content {\n",
       "  /* Expand drop-down */\n",
       "  display: block;\n",
       "  width: 100%;\n",
       "  overflow: visible;\n",
       "}\n",
       "\n",
       "#sk-container-id-1 input.sk-toggleable__control:checked~label.sk-toggleable__label-arrow:before {\n",
       "  content: \"▾\";\n",
       "}\n",
       "\n",
       "/* Pipeline/ColumnTransformer-specific style */\n",
       "\n",
       "#sk-container-id-1 div.sk-label input.sk-toggleable__control:checked~label.sk-toggleable__label {\n",
       "  color: var(--sklearn-color-text);\n",
       "  background-color: var(--sklearn-color-unfitted-level-2);\n",
       "}\n",
       "\n",
       "#sk-container-id-1 div.sk-label.fitted input.sk-toggleable__control:checked~label.sk-toggleable__label {\n",
       "  background-color: var(--sklearn-color-fitted-level-2);\n",
       "}\n",
       "\n",
       "/* Estimator-specific style */\n",
       "\n",
       "/* Colorize estimator box */\n",
       "#sk-container-id-1 div.sk-estimator input.sk-toggleable__control:checked~label.sk-toggleable__label {\n",
       "  /* unfitted */\n",
       "  background-color: var(--sklearn-color-unfitted-level-2);\n",
       "}\n",
       "\n",
       "#sk-container-id-1 div.sk-estimator.fitted input.sk-toggleable__control:checked~label.sk-toggleable__label {\n",
       "  /* fitted */\n",
       "  background-color: var(--sklearn-color-fitted-level-2);\n",
       "}\n",
       "\n",
       "#sk-container-id-1 div.sk-label label.sk-toggleable__label,\n",
       "#sk-container-id-1 div.sk-label label {\n",
       "  /* The background is the default theme color */\n",
       "  color: var(--sklearn-color-text-on-default-background);\n",
       "}\n",
       "\n",
       "/* On hover, darken the color of the background */\n",
       "#sk-container-id-1 div.sk-label:hover label.sk-toggleable__label {\n",
       "  color: var(--sklearn-color-text);\n",
       "  background-color: var(--sklearn-color-unfitted-level-2);\n",
       "}\n",
       "\n",
       "/* Label box, darken color on hover, fitted */\n",
       "#sk-container-id-1 div.sk-label.fitted:hover label.sk-toggleable__label.fitted {\n",
       "  color: var(--sklearn-color-text);\n",
       "  background-color: var(--sklearn-color-fitted-level-2);\n",
       "}\n",
       "\n",
       "/* Estimator label */\n",
       "\n",
       "#sk-container-id-1 div.sk-label label {\n",
       "  font-family: monospace;\n",
       "  font-weight: bold;\n",
       "  display: inline-block;\n",
       "  line-height: 1.2em;\n",
       "}\n",
       "\n",
       "#sk-container-id-1 div.sk-label-container {\n",
       "  text-align: center;\n",
       "}\n",
       "\n",
       "/* Estimator-specific */\n",
       "#sk-container-id-1 div.sk-estimator {\n",
       "  font-family: monospace;\n",
       "  border: 1px dotted var(--sklearn-color-border-box);\n",
       "  border-radius: 0.25em;\n",
       "  box-sizing: border-box;\n",
       "  margin-bottom: 0.5em;\n",
       "  /* unfitted */\n",
       "  background-color: var(--sklearn-color-unfitted-level-0);\n",
       "}\n",
       "\n",
       "#sk-container-id-1 div.sk-estimator.fitted {\n",
       "  /* fitted */\n",
       "  background-color: var(--sklearn-color-fitted-level-0);\n",
       "}\n",
       "\n",
       "/* on hover */\n",
       "#sk-container-id-1 div.sk-estimator:hover {\n",
       "  /* unfitted */\n",
       "  background-color: var(--sklearn-color-unfitted-level-2);\n",
       "}\n",
       "\n",
       "#sk-container-id-1 div.sk-estimator.fitted:hover {\n",
       "  /* fitted */\n",
       "  background-color: var(--sklearn-color-fitted-level-2);\n",
       "}\n",
       "\n",
       "/* Specification for estimator info (e.g. \"i\" and \"?\") */\n",
       "\n",
       "/* Common style for \"i\" and \"?\" */\n",
       "\n",
       ".sk-estimator-doc-link,\n",
       "a:link.sk-estimator-doc-link,\n",
       "a:visited.sk-estimator-doc-link {\n",
       "  float: right;\n",
       "  font-size: smaller;\n",
       "  line-height: 1em;\n",
       "  font-family: monospace;\n",
       "  background-color: var(--sklearn-color-background);\n",
       "  border-radius: 1em;\n",
       "  height: 1em;\n",
       "  width: 1em;\n",
       "  text-decoration: none !important;\n",
       "  margin-left: 0.5em;\n",
       "  text-align: center;\n",
       "  /* unfitted */\n",
       "  border: var(--sklearn-color-unfitted-level-1) 1pt solid;\n",
       "  color: var(--sklearn-color-unfitted-level-1);\n",
       "}\n",
       "\n",
       ".sk-estimator-doc-link.fitted,\n",
       "a:link.sk-estimator-doc-link.fitted,\n",
       "a:visited.sk-estimator-doc-link.fitted {\n",
       "  /* fitted */\n",
       "  border: var(--sklearn-color-fitted-level-1) 1pt solid;\n",
       "  color: var(--sklearn-color-fitted-level-1);\n",
       "}\n",
       "\n",
       "/* On hover */\n",
       "div.sk-estimator:hover .sk-estimator-doc-link:hover,\n",
       ".sk-estimator-doc-link:hover,\n",
       "div.sk-label-container:hover .sk-estimator-doc-link:hover,\n",
       ".sk-estimator-doc-link:hover {\n",
       "  /* unfitted */\n",
       "  background-color: var(--sklearn-color-unfitted-level-3);\n",
       "  color: var(--sklearn-color-background);\n",
       "  text-decoration: none;\n",
       "}\n",
       "\n",
       "div.sk-estimator.fitted:hover .sk-estimator-doc-link.fitted:hover,\n",
       ".sk-estimator-doc-link.fitted:hover,\n",
       "div.sk-label-container:hover .sk-estimator-doc-link.fitted:hover,\n",
       ".sk-estimator-doc-link.fitted:hover {\n",
       "  /* fitted */\n",
       "  background-color: var(--sklearn-color-fitted-level-3);\n",
       "  color: var(--sklearn-color-background);\n",
       "  text-decoration: none;\n",
       "}\n",
       "\n",
       "/* Span, style for the box shown on hovering the info icon */\n",
       ".sk-estimator-doc-link span {\n",
       "  display: none;\n",
       "  z-index: 9999;\n",
       "  position: relative;\n",
       "  font-weight: normal;\n",
       "  right: .2ex;\n",
       "  padding: .5ex;\n",
       "  margin: .5ex;\n",
       "  width: min-content;\n",
       "  min-width: 20ex;\n",
       "  max-width: 50ex;\n",
       "  color: var(--sklearn-color-text);\n",
       "  box-shadow: 2pt 2pt 4pt #999;\n",
       "  /* unfitted */\n",
       "  background: var(--sklearn-color-unfitted-level-0);\n",
       "  border: .5pt solid var(--sklearn-color-unfitted-level-3);\n",
       "}\n",
       "\n",
       ".sk-estimator-doc-link.fitted span {\n",
       "  /* fitted */\n",
       "  background: var(--sklearn-color-fitted-level-0);\n",
       "  border: var(--sklearn-color-fitted-level-3);\n",
       "}\n",
       "\n",
       ".sk-estimator-doc-link:hover span {\n",
       "  display: block;\n",
       "}\n",
       "\n",
       "/* \"?\"-specific style due to the `<a>` HTML tag */\n",
       "\n",
       "#sk-container-id-1 a.estimator_doc_link {\n",
       "  float: right;\n",
       "  font-size: 1rem;\n",
       "  line-height: 1em;\n",
       "  font-family: monospace;\n",
       "  background-color: var(--sklearn-color-background);\n",
       "  border-radius: 1rem;\n",
       "  height: 1rem;\n",
       "  width: 1rem;\n",
       "  text-decoration: none;\n",
       "  /* unfitted */\n",
       "  color: var(--sklearn-color-unfitted-level-1);\n",
       "  border: var(--sklearn-color-unfitted-level-1) 1pt solid;\n",
       "}\n",
       "\n",
       "#sk-container-id-1 a.estimator_doc_link.fitted {\n",
       "  /* fitted */\n",
       "  border: var(--sklearn-color-fitted-level-1) 1pt solid;\n",
       "  color: var(--sklearn-color-fitted-level-1);\n",
       "}\n",
       "\n",
       "/* On hover */\n",
       "#sk-container-id-1 a.estimator_doc_link:hover {\n",
       "  /* unfitted */\n",
       "  background-color: var(--sklearn-color-unfitted-level-3);\n",
       "  color: var(--sklearn-color-background);\n",
       "  text-decoration: none;\n",
       "}\n",
       "\n",
       "#sk-container-id-1 a.estimator_doc_link.fitted:hover {\n",
       "  /* fitted */\n",
       "  background-color: var(--sklearn-color-fitted-level-3);\n",
       "}\n",
       "\n",
       ".estimator-table summary {\n",
       "    padding: .5rem;\n",
       "    font-family: monospace;\n",
       "    cursor: pointer;\n",
       "}\n",
       "\n",
       ".estimator-table details[open] {\n",
       "    padding-left: 0.1rem;\n",
       "    padding-right: 0.1rem;\n",
       "    padding-bottom: 0.3rem;\n",
       "}\n",
       "\n",
       ".estimator-table .parameters-table {\n",
       "    margin-left: auto !important;\n",
       "    margin-right: auto !important;\n",
       "}\n",
       "\n",
       ".estimator-table .parameters-table tr:nth-child(odd) {\n",
       "    background-color: #fff;\n",
       "}\n",
       "\n",
       ".estimator-table .parameters-table tr:nth-child(even) {\n",
       "    background-color: #f6f6f6;\n",
       "}\n",
       "\n",
       ".estimator-table .parameters-table tr:hover {\n",
       "    background-color: #e0e0e0;\n",
       "}\n",
       "\n",
       ".estimator-table table td {\n",
       "    border: 1px solid rgba(106, 105, 104, 0.232);\n",
       "}\n",
       "\n",
       ".user-set td {\n",
       "    color:rgb(255, 94, 0);\n",
       "    text-align: left;\n",
       "}\n",
       "\n",
       ".user-set td.value pre {\n",
       "    color:rgb(255, 94, 0) !important;\n",
       "    background-color: transparent !important;\n",
       "}\n",
       "\n",
       ".default td {\n",
       "    color: black;\n",
       "    text-align: left;\n",
       "}\n",
       "\n",
       ".user-set td i,\n",
       ".default td i {\n",
       "    color: black;\n",
       "}\n",
       "\n",
       ".copy-paste-icon {\n",
       "    background-image: url(data:image/svg+xml;base64,PHN2ZyB4bWxucz0iaHR0cDovL3d3dy53My5vcmcvMjAwMC9zdmciIHZpZXdCb3g9IjAgMCA0NDggNTEyIj48IS0tIUZvbnQgQXdlc29tZSBGcmVlIDYuNy4yIGJ5IEBmb250YXdlc29tZSAtIGh0dHBzOi8vZm9udGF3ZXNvbWUuY29tIExpY2Vuc2UgLSBodHRwczovL2ZvbnRhd2Vzb21lLmNvbS9saWNlbnNlL2ZyZWUgQ29weXJpZ2h0IDIwMjUgRm9udGljb25zLCBJbmMuLS0+PHBhdGggZD0iTTIwOCAwTDMzMi4xIDBjMTIuNyAwIDI0LjkgNS4xIDMzLjkgMTQuMWw2Ny45IDY3LjljOSA5IDE0LjEgMjEuMiAxNC4xIDMzLjlMNDQ4IDMzNmMwIDI2LjUtMjEuNSA0OC00OCA0OGwtMTkyIDBjLTI2LjUgMC00OC0yMS41LTQ4LTQ4bDAtMjg4YzAtMjYuNSAyMS41LTQ4IDQ4LTQ4ek00OCAxMjhsODAgMCAwIDY0LTY0IDAgMCAyNTYgMTkyIDAgMC0zMiA2NCAwIDAgNDhjMCAyNi41LTIxLjUgNDgtNDggNDhMNDggNTEyYy0yNi41IDAtNDgtMjEuNS00OC00OEwwIDE3NmMwLTI2LjUgMjEuNS00OCA0OC00OHoiLz48L3N2Zz4=);\n",
       "    background-repeat: no-repeat;\n",
       "    background-size: 14px 14px;\n",
       "    background-position: 0;\n",
       "    display: inline-block;\n",
       "    width: 14px;\n",
       "    height: 14px;\n",
       "    cursor: pointer;\n",
       "}\n",
       "</style><body><div id=\"sk-container-id-1\" class=\"sk-top-container\"><div class=\"sk-text-repr-fallback\"><pre>LatentDirichletAllocation(n_components=5, random_state=42)</pre><b>In a Jupyter environment, please rerun this cell to show the HTML representation or trust the notebook. <br />On GitHub, the HTML representation is unable to render, please try loading this page with nbviewer.org.</b></div><div class=\"sk-container\" hidden><div class=\"sk-item\"><div class=\"sk-estimator fitted sk-toggleable\"><input class=\"sk-toggleable__control sk-hidden--visually\" id=\"sk-estimator-id-1\" type=\"checkbox\" checked><label for=\"sk-estimator-id-1\" class=\"sk-toggleable__label fitted sk-toggleable__label-arrow\"><div><div>LatentDirichletAllocation</div></div><div><a class=\"sk-estimator-doc-link fitted\" rel=\"noreferrer\" target=\"_blank\" href=\"https://scikit-learn.org/1.7/modules/generated/sklearn.decomposition.LatentDirichletAllocation.html\">?<span>Documentation for LatentDirichletAllocation</span></a><span class=\"sk-estimator-doc-link fitted\">i<span>Fitted</span></span></div></label><div class=\"sk-toggleable__content fitted\" data-param-prefix=\"\">\n",
       "        <div class=\"estimator-table\">\n",
       "            <details>\n",
       "                <summary>Parameters</summary>\n",
       "                <table class=\"parameters-table\">\n",
       "                  <tbody>\n",
       "                    \n",
       "        <tr class=\"user-set\">\n",
       "            <td><i class=\"copy-paste-icon\"\n",
       "                 onclick=\"copyToClipboard('n_components',\n",
       "                          this.parentElement.nextElementSibling)\"\n",
       "            ></i></td>\n",
       "            <td class=\"param\">n_components&nbsp;</td>\n",
       "            <td class=\"value\">5</td>\n",
       "        </tr>\n",
       "    \n",
       "\n",
       "        <tr class=\"default\">\n",
       "            <td><i class=\"copy-paste-icon\"\n",
       "                 onclick=\"copyToClipboard('doc_topic_prior',\n",
       "                          this.parentElement.nextElementSibling)\"\n",
       "            ></i></td>\n",
       "            <td class=\"param\">doc_topic_prior&nbsp;</td>\n",
       "            <td class=\"value\">None</td>\n",
       "        </tr>\n",
       "    \n",
       "\n",
       "        <tr class=\"default\">\n",
       "            <td><i class=\"copy-paste-icon\"\n",
       "                 onclick=\"copyToClipboard('topic_word_prior',\n",
       "                          this.parentElement.nextElementSibling)\"\n",
       "            ></i></td>\n",
       "            <td class=\"param\">topic_word_prior&nbsp;</td>\n",
       "            <td class=\"value\">None</td>\n",
       "        </tr>\n",
       "    \n",
       "\n",
       "        <tr class=\"default\">\n",
       "            <td><i class=\"copy-paste-icon\"\n",
       "                 onclick=\"copyToClipboard('learning_method',\n",
       "                          this.parentElement.nextElementSibling)\"\n",
       "            ></i></td>\n",
       "            <td class=\"param\">learning_method&nbsp;</td>\n",
       "            <td class=\"value\">&#x27;batch&#x27;</td>\n",
       "        </tr>\n",
       "    \n",
       "\n",
       "        <tr class=\"default\">\n",
       "            <td><i class=\"copy-paste-icon\"\n",
       "                 onclick=\"copyToClipboard('learning_decay',\n",
       "                          this.parentElement.nextElementSibling)\"\n",
       "            ></i></td>\n",
       "            <td class=\"param\">learning_decay&nbsp;</td>\n",
       "            <td class=\"value\">0.7</td>\n",
       "        </tr>\n",
       "    \n",
       "\n",
       "        <tr class=\"default\">\n",
       "            <td><i class=\"copy-paste-icon\"\n",
       "                 onclick=\"copyToClipboard('learning_offset',\n",
       "                          this.parentElement.nextElementSibling)\"\n",
       "            ></i></td>\n",
       "            <td class=\"param\">learning_offset&nbsp;</td>\n",
       "            <td class=\"value\">10.0</td>\n",
       "        </tr>\n",
       "    \n",
       "\n",
       "        <tr class=\"default\">\n",
       "            <td><i class=\"copy-paste-icon\"\n",
       "                 onclick=\"copyToClipboard('max_iter',\n",
       "                          this.parentElement.nextElementSibling)\"\n",
       "            ></i></td>\n",
       "            <td class=\"param\">max_iter&nbsp;</td>\n",
       "            <td class=\"value\">10</td>\n",
       "        </tr>\n",
       "    \n",
       "\n",
       "        <tr class=\"default\">\n",
       "            <td><i class=\"copy-paste-icon\"\n",
       "                 onclick=\"copyToClipboard('batch_size',\n",
       "                          this.parentElement.nextElementSibling)\"\n",
       "            ></i></td>\n",
       "            <td class=\"param\">batch_size&nbsp;</td>\n",
       "            <td class=\"value\">128</td>\n",
       "        </tr>\n",
       "    \n",
       "\n",
       "        <tr class=\"default\">\n",
       "            <td><i class=\"copy-paste-icon\"\n",
       "                 onclick=\"copyToClipboard('evaluate_every',\n",
       "                          this.parentElement.nextElementSibling)\"\n",
       "            ></i></td>\n",
       "            <td class=\"param\">evaluate_every&nbsp;</td>\n",
       "            <td class=\"value\">-1</td>\n",
       "        </tr>\n",
       "    \n",
       "\n",
       "        <tr class=\"default\">\n",
       "            <td><i class=\"copy-paste-icon\"\n",
       "                 onclick=\"copyToClipboard('total_samples',\n",
       "                          this.parentElement.nextElementSibling)\"\n",
       "            ></i></td>\n",
       "            <td class=\"param\">total_samples&nbsp;</td>\n",
       "            <td class=\"value\">1000000.0</td>\n",
       "        </tr>\n",
       "    \n",
       "\n",
       "        <tr class=\"default\">\n",
       "            <td><i class=\"copy-paste-icon\"\n",
       "                 onclick=\"copyToClipboard('perp_tol',\n",
       "                          this.parentElement.nextElementSibling)\"\n",
       "            ></i></td>\n",
       "            <td class=\"param\">perp_tol&nbsp;</td>\n",
       "            <td class=\"value\">0.1</td>\n",
       "        </tr>\n",
       "    \n",
       "\n",
       "        <tr class=\"default\">\n",
       "            <td><i class=\"copy-paste-icon\"\n",
       "                 onclick=\"copyToClipboard('mean_change_tol',\n",
       "                          this.parentElement.nextElementSibling)\"\n",
       "            ></i></td>\n",
       "            <td class=\"param\">mean_change_tol&nbsp;</td>\n",
       "            <td class=\"value\">0.001</td>\n",
       "        </tr>\n",
       "    \n",
       "\n",
       "        <tr class=\"default\">\n",
       "            <td><i class=\"copy-paste-icon\"\n",
       "                 onclick=\"copyToClipboard('max_doc_update_iter',\n",
       "                          this.parentElement.nextElementSibling)\"\n",
       "            ></i></td>\n",
       "            <td class=\"param\">max_doc_update_iter&nbsp;</td>\n",
       "            <td class=\"value\">100</td>\n",
       "        </tr>\n",
       "    \n",
       "\n",
       "        <tr class=\"default\">\n",
       "            <td><i class=\"copy-paste-icon\"\n",
       "                 onclick=\"copyToClipboard('n_jobs',\n",
       "                          this.parentElement.nextElementSibling)\"\n",
       "            ></i></td>\n",
       "            <td class=\"param\">n_jobs&nbsp;</td>\n",
       "            <td class=\"value\">None</td>\n",
       "        </tr>\n",
       "    \n",
       "\n",
       "        <tr class=\"default\">\n",
       "            <td><i class=\"copy-paste-icon\"\n",
       "                 onclick=\"copyToClipboard('verbose',\n",
       "                          this.parentElement.nextElementSibling)\"\n",
       "            ></i></td>\n",
       "            <td class=\"param\">verbose&nbsp;</td>\n",
       "            <td class=\"value\">0</td>\n",
       "        </tr>\n",
       "    \n",
       "\n",
       "        <tr class=\"user-set\">\n",
       "            <td><i class=\"copy-paste-icon\"\n",
       "                 onclick=\"copyToClipboard('random_state',\n",
       "                          this.parentElement.nextElementSibling)\"\n",
       "            ></i></td>\n",
       "            <td class=\"param\">random_state&nbsp;</td>\n",
       "            <td class=\"value\">42</td>\n",
       "        </tr>\n",
       "    \n",
       "                  </tbody>\n",
       "                </table>\n",
       "            </details>\n",
       "        </div>\n",
       "    </div></div></div></div></div><script>function copyToClipboard(text, element) {\n",
       "    // Get the parameter prefix from the closest toggleable content\n",
       "    const toggleableContent = element.closest('.sk-toggleable__content');\n",
       "    const paramPrefix = toggleableContent ? toggleableContent.dataset.paramPrefix : '';\n",
       "    const fullParamName = paramPrefix ? `${paramPrefix}${text}` : text;\n",
       "\n",
       "    const originalStyle = element.style;\n",
       "    const computedStyle = window.getComputedStyle(element);\n",
       "    const originalWidth = computedStyle.width;\n",
       "    const originalHTML = element.innerHTML.replace('Copied!', '');\n",
       "\n",
       "    navigator.clipboard.writeText(fullParamName)\n",
       "        .then(() => {\n",
       "            element.style.width = originalWidth;\n",
       "            element.style.color = 'green';\n",
       "            element.innerHTML = \"Copied!\";\n",
       "\n",
       "            setTimeout(() => {\n",
       "                element.innerHTML = originalHTML;\n",
       "                element.style = originalStyle;\n",
       "            }, 2000);\n",
       "        })\n",
       "        .catch(err => {\n",
       "            console.error('Failed to copy:', err);\n",
       "            element.style.color = 'red';\n",
       "            element.innerHTML = \"Failed!\";\n",
       "            setTimeout(() => {\n",
       "                element.innerHTML = originalHTML;\n",
       "                element.style = originalStyle;\n",
       "            }, 2000);\n",
       "        });\n",
       "    return false;\n",
       "}\n",
       "\n",
       "document.querySelectorAll('.fa-regular.fa-copy').forEach(function(element) {\n",
       "    const toggleableContent = element.closest('.sk-toggleable__content');\n",
       "    const paramPrefix = toggleableContent ? toggleableContent.dataset.paramPrefix : '';\n",
       "    const paramName = element.parentElement.nextElementSibling.textContent.trim();\n",
       "    const fullParamName = paramPrefix ? `${paramPrefix}${paramName}` : paramName;\n",
       "\n",
       "    element.setAttribute('title', fullParamName);\n",
       "});\n",
       "</script></body>"
      ],
      "text/plain": [
       "LatentDirichletAllocation(n_components=5, random_state=42)"
      ]
     },
     "execution_count": 10,
     "metadata": {},
     "output_type": "execute_result"
    }
   ],
   "source": [
    "from sklearn.feature_extraction.text import CountVectorizer\n",
    "from sklearn.decomposition import LatentDirichletAllocation\n",
    "\n",
    "# Vectorize the reviews\n",
    "vectorizer = CountVectorizer(max_df=0.95, min_df=5, stop_words='english')\n",
    "X = vectorizer.fit_transform(df['review'].dropna())\n",
    "\n",
    "# LDA model\n",
    "lda = LatentDirichletAllocation(n_components=5, random_state=42)\n",
    "lda.fit(X)\n"
   ]
  },
  {
   "cell_type": "code",
   "execution_count": 11,
   "id": "3d60e41a",
   "metadata": {},
   "outputs": [
    {
     "name": "stdout",
     "output_type": "stream",
     "text": [
      "🔹 Topic 1:\n",
      "app, nice, banking, fast, user, ነው, excellent, great, super, dashen\n",
      "🔹 Topic 2:\n",
      "good, app, work, doesn, bank, working, developer, slow, service, application\n",
      "🔹 Topic 3:\n",
      "app, like, wow, ok, don, update, boa, screenshot, apps, work\n",
      "🔹 Topic 4:\n",
      "app, bank, dashen, use, amazing, super, easy, application, step, ahead\n",
      "🔹 Topic 5:\n",
      "app, best, banking, mobile, money, worst, account, seen, developer, application\n"
     ]
    }
   ],
   "source": [
    "def display_topics(model, feature_names, n_top_words):\n",
    "    for topic_idx, topic in enumerate(model.components_):\n",
    "        print(f\"🔹 Topic {topic_idx + 1}:\")\n",
    "        print(\", \".join([feature_names[i] for i in topic.argsort()[:-n_top_words - 1:-1]]))\n",
    "\n",
    "display_topics(lda, vectorizer.get_feature_names_out(), 10)\n"
   ]
  },
  {
   "cell_type": "markdown",
   "id": "6d69641e",
   "metadata": {},
   "source": [
    "📘 Bar Plot: Theme Counts Per Bank"
   ]
  },
  {
   "cell_type": "code",
   "execution_count": 29,
   "id": "529539c7",
   "metadata": {},
   "outputs": [],
   "source": [
    "def normalize_bank_names(df):\n",
    "    df['bank'] = df['bank'].str.strip().str.upper()\n",
    "    return df\n"
   ]
  },
  {
   "cell_type": "code",
   "execution_count": 30,
   "id": "0399d5db",
   "metadata": {},
   "outputs": [],
   "source": [
    "df = normalize_bank_names(df)\n"
   ]
  },
  {
   "cell_type": "code",
   "execution_count": 33,
   "id": "19e5bbd6",
   "metadata": {},
   "outputs": [
    {
     "data": {
      "application/vnd.microsoft.datawrangler.viewer.v0+json": {
       "columns": [
        {
         "name": "index",
         "rawType": "int64",
         "type": "integer"
        },
        {
         "name": "review",
         "rawType": "object",
         "type": "string"
        },
        {
         "name": "rating",
         "rawType": "int64",
         "type": "integer"
        },
        {
         "name": "date",
         "rawType": "object",
         "type": "string"
        },
        {
         "name": "bank",
         "rawType": "object",
         "type": "string"
        },
        {
         "name": "source",
         "rawType": "object",
         "type": "string"
        },
        {
         "name": "language",
         "rawType": "object",
         "type": "string"
        },
        {
         "name": "sentiment",
         "rawType": "int64",
         "type": "integer"
        },
        {
         "name": "identified_themes",
         "rawType": "object",
         "type": "string"
        },
        {
         "name": "dominant_topic",
         "rawType": "object",
         "type": "string"
        }
       ],
       "ref": "e09fd78d-83fb-426a-b63a-813c25184428",
       "rows": [
        [
         "0",
         "love",
         "3",
         "2025-06-06",
         "DASHEN BANK",
         "Google Play",
         "en",
         "1",
         "Other",
         "Topic_1"
        ],
        [
         "1",
         "መቸሸጠ",
         "5",
         "2025-06-03",
         "DASHEN BANK",
         "Google Play",
         "en",
         "0",
         "Other",
         "Topic_1"
        ],
        [
         "2",
         "wow",
         "5",
         "2025-06-03",
         "DASHEN BANK",
         "Google Play",
         "en",
         "1",
         "Other",
         "Topic_3"
        ],
        [
         "3",
         "gadaa",
         "5",
         "2025-06-01",
         "DASHEN BANK",
         "Google Play",
         "en",
         "0",
         "Other",
         "Topic_1"
        ],
        [
         "4",
         "Massive upgrade from the Amole app.",
         "5",
         "2025-05-31",
         "DASHEN BANK",
         "Google Play",
         "en",
         "0",
         "Other",
         "Topic_4"
        ]
       ],
       "shape": {
        "columns": 9,
        "rows": 5
       }
      },
      "text/html": [
       "<div>\n",
       "<style scoped>\n",
       "    .dataframe tbody tr th:only-of-type {\n",
       "        vertical-align: middle;\n",
       "    }\n",
       "\n",
       "    .dataframe tbody tr th {\n",
       "        vertical-align: top;\n",
       "    }\n",
       "\n",
       "    .dataframe thead th {\n",
       "        text-align: right;\n",
       "    }\n",
       "</style>\n",
       "<table border=\"1\" class=\"dataframe\">\n",
       "  <thead>\n",
       "    <tr style=\"text-align: right;\">\n",
       "      <th></th>\n",
       "      <th>review</th>\n",
       "      <th>rating</th>\n",
       "      <th>date</th>\n",
       "      <th>bank</th>\n",
       "      <th>source</th>\n",
       "      <th>language</th>\n",
       "      <th>sentiment</th>\n",
       "      <th>identified_themes</th>\n",
       "      <th>dominant_topic</th>\n",
       "    </tr>\n",
       "  </thead>\n",
       "  <tbody>\n",
       "    <tr>\n",
       "      <th>0</th>\n",
       "      <td>love</td>\n",
       "      <td>3</td>\n",
       "      <td>2025-06-06</td>\n",
       "      <td>DASHEN BANK</td>\n",
       "      <td>Google Play</td>\n",
       "      <td>en</td>\n",
       "      <td>1</td>\n",
       "      <td>Other</td>\n",
       "      <td>Topic_1</td>\n",
       "    </tr>\n",
       "    <tr>\n",
       "      <th>1</th>\n",
       "      <td>መቸሸጠ</td>\n",
       "      <td>5</td>\n",
       "      <td>2025-06-03</td>\n",
       "      <td>DASHEN BANK</td>\n",
       "      <td>Google Play</td>\n",
       "      <td>en</td>\n",
       "      <td>0</td>\n",
       "      <td>Other</td>\n",
       "      <td>Topic_1</td>\n",
       "    </tr>\n",
       "    <tr>\n",
       "      <th>2</th>\n",
       "      <td>wow</td>\n",
       "      <td>5</td>\n",
       "      <td>2025-06-03</td>\n",
       "      <td>DASHEN BANK</td>\n",
       "      <td>Google Play</td>\n",
       "      <td>en</td>\n",
       "      <td>1</td>\n",
       "      <td>Other</td>\n",
       "      <td>Topic_3</td>\n",
       "    </tr>\n",
       "    <tr>\n",
       "      <th>3</th>\n",
       "      <td>gadaa</td>\n",
       "      <td>5</td>\n",
       "      <td>2025-06-01</td>\n",
       "      <td>DASHEN BANK</td>\n",
       "      <td>Google Play</td>\n",
       "      <td>en</td>\n",
       "      <td>0</td>\n",
       "      <td>Other</td>\n",
       "      <td>Topic_1</td>\n",
       "    </tr>\n",
       "    <tr>\n",
       "      <th>4</th>\n",
       "      <td>Massive upgrade from the Amole app.</td>\n",
       "      <td>5</td>\n",
       "      <td>2025-05-31</td>\n",
       "      <td>DASHEN BANK</td>\n",
       "      <td>Google Play</td>\n",
       "      <td>en</td>\n",
       "      <td>0</td>\n",
       "      <td>Other</td>\n",
       "      <td>Topic_4</td>\n",
       "    </tr>\n",
       "  </tbody>\n",
       "</table>\n",
       "</div>"
      ],
      "text/plain": [
       "                                review  rating        date         bank  \\\n",
       "0                                 love       3  2025-06-06  DASHEN BANK   \n",
       "1                                 መቸሸጠ       5  2025-06-03  DASHEN BANK   \n",
       "2                                  wow       5  2025-06-03  DASHEN BANK   \n",
       "3                                gadaa       5  2025-06-01  DASHEN BANK   \n",
       "4  Massive upgrade from the Amole app.       5  2025-05-31  DASHEN BANK   \n",
       "\n",
       "        source language  sentiment identified_themes dominant_topic  \n",
       "0  Google Play       en          1             Other        Topic_1  \n",
       "1  Google Play       en          0             Other        Topic_1  \n",
       "2  Google Play       en          1             Other        Topic_3  \n",
       "3  Google Play       en          0             Other        Topic_1  \n",
       "4  Google Play       en          0             Other        Topic_4  "
      ]
     },
     "execution_count": 33,
     "metadata": {},
     "output_type": "execute_result"
    }
   ],
   "source": [
    "# Normalize bank names early\n",
    "df = normalize_bank_names(df)\n",
    "\n",
    "# Now apply themes\n",
    "df = apply_theme_analysis(df, THEME_RULES)\n",
    "df.to_csv('../data/thematic_reviews.csv', index=False)\n",
    "df.head()"
   ]
  },
  {
   "cell_type": "code",
   "execution_count": 35,
   "id": "cf214128",
   "metadata": {},
   "outputs": [],
   "source": [
    "df['bank'] = df['bank'].str.strip().str.upper()\n"
   ]
  },
  {
   "cell_type": "code",
   "execution_count": 41,
   "id": "beede206",
   "metadata": {},
   "outputs": [
    {
     "data": {
      "image/png": "[encoded data removed]",
      "text/plain": [
       "<Figure size 1200x800 with 1 Axes>"
      ]
     },
     "metadata": {},
     "output_type": "display_data"
    }
   ],
   "source": [
    "import matplotlib.pyplot as plt\n",
    "import seaborn as sns\n",
    "\n",
    "# Normalize bank names\n",
    "df['bank'] = df['bank'].str.strip().str.upper()\n",
    "\n",
    "# Increase figure height for more space\n",
    "plt.figure(figsize=(12, 8))\n",
    "\n",
    "# Horizontal bar chart: use 'y' instead of 'x'\n",
    "sns.countplot(data=df, y='bank', hue='identified_themes', palette='tab10')\n",
    "\n",
    "plt.title(\"Theme Distribution per Bank\")\n",
    "plt.xlabel(\"Number of Reviews\")\n",
    "plt.ylabel(\"Bank\")\n",
    "plt.legend(title=\"Themes\", bbox_to_anchor=(1.05, 1), loc='upper left')\n",
    "\n",
    "# Improve spacing\n",
    "plt.tight_layout()\n",
    "plt.show()\n"
   ]
  },
  {
   "cell_type": "code",
   "execution_count": 42,
   "id": "44076c0c",
   "metadata": {},
   "outputs": [
    {
     "data": {
      "image/png": "[encoded data removed]",
      "text/plain": [
       "<Figure size 1200x600 with 2 Axes>"
      ]
     },
     "metadata": {},
     "output_type": "display_data"
    }
   ],
   "source": [
    "bank_themes = df.groupby(\"bank\")[\"dominant_topic\"].value_counts().unstack().fillna(0)\n",
    "plt.figure(figsize=(12, 6))\n",
    "sns.heatmap(bank_themes, annot=True, cmap=\"YlGnBu\", fmt=\".0f\")\n",
    "plt.title(\"Dominant LDA Topics per Bank\")\n",
    "plt.ylabel(\"Bank\")\n",
    "plt.xlabel(\"LDA Topic\")\n",
    "plt.tight_layout()\n",
    "plt.show()\n"
   ]
  },
  {
   "cell_type": "code",
   "execution_count": 49,
   "id": "a026cd3e",
   "metadata": {},
   "outputs": [
    {
     "name": "stdout",
     "output_type": "stream",
     "text": [
      "🔹 Topic 1:\n",
      "app, nice, banking, fast, user, ነው, excellent, great, super, dashen\n",
      "🔹 Topic 2:\n",
      "good, app, work, doesn, bank, working, developer, slow, service, application\n",
      "🔹 Topic 3:\n",
      "app, like, wow, ok, don, update, boa, screenshot, apps, work\n",
      "🔹 Topic 4:\n",
      "app, bank, dashen, use, amazing, super, easy, application, step, ahead\n",
      "🔹 Topic 5:\n",
      "app, best, banking, mobile, money, worst, account, seen, developer, application\n"
     ]
    }
   ],
   "source": [
    "vectorizer = CountVectorizer(stop_words='english', max_df=0.95, min_df=5)\n",
    "X = vectorizer.fit_transform(df[\"review\"])\n",
    "lda = LatentDirichletAllocation(n_components=5, random_state=42)\n",
    "lda.fit(X)\n",
    "\n",
    "def display_topics(model, feature_names, n_top_words=10):\n",
    "    for idx, topic in enumerate(model.components_):\n",
    "        print(f\"🔹 Topic {idx + 1}:\")\n",
    "        print(\", \".join([feature_names[i] for i in topic.argsort()[:-n_top_words - 1:-1]]))\n",
    "\n",
    "display_topics(lda, vectorizer.get_feature_names_out())\n"
   ]
  },
  {
   "cell_type": "code",
   "execution_count": 51,
   "id": "8e04cea6",
   "metadata": {},
   "outputs": [
    {
     "name": "stdout",
     "output_type": "stream",
     "text": [
      "Top Keywords: amazing, app, application, bank, banking, best, best app, cbe, dashen, dashen bank, developer, easy, experience, fast, features, good, great, like, make, mobile, mobile banking, money, nice, super, super app, time, use, user, work, working\n"
     ]
    }
   ],
   "source": [
    "def extract_tfidf_keywords(texts, max_features=30, ngram_range=(1, 2)):\n",
    "    vectorizer = TfidfVectorizer(stop_words='english', max_features=max_features, ngram_range=ngram_range)\n",
    "    tfidf_matrix = vectorizer.fit_transform(texts)\n",
    "    return vectorizer.get_feature_names_out()\n",
    "\n",
    "keywords = extract_tfidf_keywords(df[\"review\"].tolist())\n",
    "print(\"Top Keywords:\", \", \".join(keywords))\n"
   ]
  },
  {
   "cell_type": "code",
   "execution_count": null,
   "id": "b82cd0e0",
   "metadata": {},
   "outputs": [],
   "source": []
  },
  {
   "cell_type": "code",
   "execution_count": null,
   "id": "c541c271",
   "metadata": {},
   "outputs": [],
   "source": []
  },
  {
   "cell_type": "code",
   "execution_count": 1,
   "id": "026c29d7",
   "metadata": {
    "vscode": {
     "languageId": "markdown"
    }
   },
   "outputs": [
    {
     "data": {
      "text/markdown": [
       "\n",
       "# Thematic Analysis Report\n",
       "\n",
       "## Overview\n",
       "This notebook performs a thematic analysis of customer sentiment reviews for various banks. The workflow includes text preprocessing, theme assignment using rule-based matching, keyword extraction using TF-IDF, topic modeling with LDA, and visualization of theme distributions.\n",
       "\n",
       "---\n",
       "\n",
       "## Steps Performed\n",
       "\n",
       "### 1. **Data Loading & Preparation**\n",
       "- Loaded sentiment review data from `../data/sentiment_reviews.csv`.\n",
       "- Removed rows with missing reviews.\n",
       "- Normalized bank names for consistency.\n",
       "\n",
       "### 2. **Theme Rule Definition**\n",
       "- Defined a set of theme rules (`THEME_RULES`) mapping themes to relevant keywords (e.g., \"Account Access Issues\", \"Transaction Performance\", etc.).\n",
       "\n",
       "### 3. **Theme Assignment**\n",
       "- Implemented `assign_themes()` to assign one or more themes to each review based on keyword presence.\n",
       "- Applied this function to the dataset, creating a new column `identified_themes`.\n",
       "\n",
       "### 4. **TF-IDF Keyword Extraction**\n",
       "- Used `TfidfVectorizer` to extract top keywords from reviews overall and per bank.\n",
       "- Displayed the most significant keywords for each bank.\n",
       "\n",
       "### 5. **Topic Modeling (LDA)**\n",
       "- Vectorized reviews using `CountVectorizer`.\n",
       "- Trained a Latent Dirichlet Allocation (LDA) model to identify latent topics.\n",
       "- Displayed top words for each topic.\n",
       "\n",
       "### 6. **Visualization**\n",
       "- Plotted the distribution of identified themes overall and per bank using bar plots.\n",
       "- Created a heatmap to show the distribution of dominant LDA topics per bank.\n",
       "\n",
       "---\n",
       "\n",
       "## Outputs\n",
       "- Thematic review data saved to `../data/thematic_reviews.csv`.\n",
       "- Visualizations for theme and topic distributions.\n",
       "- Lists of top keywords and topics for further analysis.\n",
       "\n",
       "---\n",
       "\n",
       "## Conclusion\n",
       "This workflow enables automated thematic tagging and topic discovery in customer reviews, supporting deeper insights into customer sentiment and areas for improvement for each bank.\n"
      ],
      "text/plain": [
       "<IPython.core.display.Markdown object>"
      ]
     },
     "metadata": {},
     "output_type": "display_data"
    }
   ],
   "source": [
    "from IPython.display import Markdown, display\n",
    "\n",
    "report = \"\"\"\n",
    "# Thematic Analysis Report\n",
    "\n",
    "## Overview\n",
    "This notebook performs a thematic analysis of customer sentiment reviews for various banks. The workflow includes text preprocessing, theme assignment using rule-based matching, keyword extraction using TF-IDF, topic modeling with LDA, and visualization of theme distributions.\n",
    "\n",
    "---\n",
    "\n",
    "## Steps Performed\n",
    "\n",
    "### 1. **Data Loading & Preparation**\n",
    "- Loaded sentiment review data from `../data/sentiment_reviews.csv`.\n",
    "- Removed rows with missing reviews.\n",
    "- Normalized bank names for consistency.\n",
    "\n",
    "### 2. **Theme Rule Definition**\n",
    "- Defined a set of theme rules (`THEME_RULES`) mapping themes to relevant keywords (e.g., \"Account Access Issues\", \"Transaction Performance\", etc.).\n",
    "\n",
    "### 3. **Theme Assignment**\n",
    "- Implemented `assign_themes()` to assign one or more themes to each review based on keyword presence.\n",
    "- Applied this function to the dataset, creating a new column `identified_themes`.\n",
    "\n",
    "### 4. **TF-IDF Keyword Extraction**\n",
    "- Used `TfidfVectorizer` to extract top keywords from reviews overall and per bank.\n",
    "- Displayed the most significant keywords for each bank.\n",
    "\n",
    "### 5. **Topic Modeling (LDA)**\n",
    "- Vectorized reviews using `CountVectorizer`.\n",
    "- Trained a Latent Dirichlet Allocation (LDA) model to identify latent topics.\n",
    "- Displayed top words for each topic.\n",
    "\n",
    "### 6. **Visualization**\n",
    "- Plotted the distribution of identified themes overall and per bank using bar plots.\n",
    "- Created a heatmap to show the distribution of dominant LDA topics per bank.\n",
    "\n",
    "---\n",
    "\n",
    "## Outputs\n",
    "- Thematic review data saved to `../data/thematic_reviews.csv`.\n",
    "- Visualizations for theme and topic distributions.\n",
    "- Lists of top keywords and topics for further analysis.\n",
    "\n",
    "---\n",
    "\n",
    "## Conclusion\n",
    "This workflow enables automated thematic tagging and topic discovery in customer reviews, supporting deeper insights into customer sentiment and areas for improvement for each bank.\n",
    "\"\"\"\n",
    "\n",
    "display(Markdown(report))"
   ]
  }
 ],
 "metadata": {
  "kernelspec": {
   "display_name": ".venv",
   "language": "python",
   "name": "python3"
  },
  "language_info": {
   "codemirror_mode": {
    "name": "ipython",
    "version": 3
   },
   "file_extension": ".py",
   "mimetype": "text/x-python",
   "name": "python",
   "nbconvert_exporter": "python",
   "pygments_lexer": "ipython3",
   "version": "3.13.3"
  }
 },
 "nbformat": 4,
 "nbformat_minor": 5
}
