{
 "cells": [
  {
   "cell_type": "code",
   "execution_count": 2,
   "id": "56407526",
   "metadata": {},
   "outputs": [
    {
     "name": "stdout",
     "output_type": "stream",
     "text": [
      "Dropped 0 missing rows\n",
      "Dropped 0 duplicates\n",
      "Dropped 0 bad dates\n",
      "Cleaned data saved to ../data/cleaned_reviews.csv\n"
     ]
    },
    {
     "data": {
      "application/vnd.microsoft.datawrangler.viewer.v0+json": {
       "columns": [
        {
         "name": "index",
         "rawType": "int64",
         "type": "integer"
        },
        {
         "name": "review",
         "rawType": "object",
         "type": "string"
        },
        {
         "name": "rating",
         "rawType": "int64",
         "type": "integer"
        },
        {
         "name": "date",
         "rawType": "object",
         "type": "string"
        },
        {
         "name": "bank",
         "rawType": "object",
         "type": "string"
        },
        {
         "name": "source",
         "rawType": "object",
         "type": "string"
        },
        {
         "name": "language",
         "rawType": "object",
         "type": "string"
        }
       ],
       "ref": "86d2e87f-1711-4d08-862b-86a110b62776",
       "rows": [
        [
         "0",
         "love",
         "3",
         "2025-06-06",
         "Dashen Bank",
         "Google Play",
         "en"
        ],
        [
         "1",
         "መቸሸጠ",
         "5",
         "2025-06-03",
         "Dashen Bank",
         "Google Play",
         "en"
        ],
        [
         "2",
         "wow",
         "5",
         "2025-06-03",
         "Dashen Bank",
         "Google Play",
         "en"
        ],
        [
         "3",
         "gadaa",
         "5",
         "2025-06-01",
         "Dashen Bank",
         "Google Play",
         "en"
        ],
        [
         "4",
         "Massive upgrade from the Amole app.",
         "5",
         "2025-05-31",
         "Dashen Bank",
         "Google Play",
         "en"
        ],
        [
         "5",
         "good",
         "4",
         "2025-05-31",
         "Dashen Bank",
         "Google Play",
         "en"
        ],
        [
         "6",
         "very good for this app",
         "5",
         "2025-05-31",
         "Dashen Bank",
         "Google Play",
         "en"
        ],
        [
         "7",
         "top",
         "5",
         "2025-05-31",
         "Dashen Bank",
         "Google Play",
         "en"
        ],
        [
         "8",
         "this app better than Amole . but the biometric on new update doesn't work",
         "4",
         "2025-05-31",
         "Dashen Bank",
         "Google Play",
         "en"
        ],
        [
         "9",
         "Wow",
         "5",
         "2025-05-30",
         "Dashen Bank",
         "Google Play",
         "en"
        ],
        [
         "10",
         "good",
         "5",
         "2025-05-30",
         "Dashen Bank",
         "Google Play",
         "en"
        ],
        [
         "11",
         "wow to it saff and this app",
         "5",
         "2025-05-30",
         "Dashen Bank",
         "Google Play",
         "en"
        ],
        [
         "12",
         "it too slow",
         "3",
         "2025-05-29",
         "Dashen Bank",
         "Google Play",
         "en"
        ],
        [
         "13",
         "ዳሽን ባንክ ይለያል",
         "4",
         "2025-05-28",
         "Dashen Bank",
         "Google Play",
         "en"
        ],
        [
         "14",
         "real life changer",
         "5",
         "2025-05-28",
         "Dashen Bank",
         "Google Play",
         "en"
        ],
        [
         "15",
         "👍👍👍",
         "5",
         "2025-05-28",
         "Dashen Bank",
         "Google Play",
         "en"
        ],
        [
         "16",
         "good",
         "5",
         "2025-05-28",
         "Dashen Bank",
         "Google Play",
         "en"
        ],
        [
         "17",
         "nice application",
         "5",
         "2025-05-27",
         "Dashen Bank",
         "Google Play",
         "en"
        ],
        [
         "18",
         "good",
         "5",
         "2025-05-27",
         "Dashen Bank",
         "Google Play",
         "en"
        ],
        [
         "19",
         "wow",
         "5",
         "2025-05-27",
         "Dashen Bank",
         "Google Play",
         "en"
        ],
        [
         "20",
         "useless app ever loading take long",
         "1",
         "2025-05-27",
         "Dashen Bank",
         "Google Play",
         "en"
        ],
        [
         "21",
         "Game changer app! Dashen Bank Super App is fast, secure, and easy to use. The three-click payment makes sending money super quick, and the QR code payment is perfect for cashless shopping. I also love the biometric login and easy airtime and bill payments. Everything I need is in one place. Dashen Bank has really raised the bar for digital banking in Ethiopia. Highly recommended!",
         "5",
         "2025-05-26",
         "Dashen Bank",
         "Google Play",
         "en"
        ],
        [
         "22",
         "very useful App",
         "1",
         "2025-05-26",
         "Dashen Bank",
         "Google Play",
         "en"
        ],
        [
         "23",
         "Simple, robust features? Yes, please! But the endless loading screen killed the fun—I couldn’t use it for days. Fix the glitch, and I’ll yeet a higher rating!",
         "2",
         "2025-05-26",
         "Dashen Bank",
         "Google Play",
         "en"
        ],
        [
         "24",
         "Wawww",
         "5",
         "2025-05-24",
         "Dashen Bank",
         "Google Play",
         "en"
        ],
        [
         "25",
         "it is good but some times says duplicate transaction why?",
         "5",
         "2025-05-24",
         "Dashen Bank",
         "Google Play",
         "en"
        ],
        [
         "26",
         "very Nice",
         "5",
         "2025-05-23",
         "Dashen Bank",
         "Google Play",
         "en"
        ],
        [
         "27",
         "its best",
         "5",
         "2025-05-23",
         "Dashen Bank",
         "Google Play",
         "en"
        ],
        [
         "28",
         "it is not as good as to the other mobile bank app.",
         "1",
         "2025-05-22",
         "Dashen Bank",
         "Google Play",
         "en"
        ],
        [
         "29",
         "The best of best is now arrived **Empowering Your Financial Freedom** \"Experience seamless banking at your fingertips with Dashen Bank. Empowering your financial freedom, anytime, anywhere!\" **Innovation Meets Convenience** \"Dashen Bank Mobile Banking: Where innovation meets convenience. **Secure and Reliable** \"Bank with confidence",
         "5",
         "2025-05-22",
         "Dashen Bank",
         "Google Play",
         "en"
        ],
        [
         "30",
         "wow",
         "5",
         "2025-05-20",
         "Dashen Bank",
         "Google Play",
         "en"
        ],
        [
         "31",
         "Nothing is changed in the updated version. You have been collecting comments but where is the feed back you improved in this version. superapp is mot functioning today.",
         "4",
         "2025-05-20",
         "Dashen Bank",
         "Google Play",
         "en"
        ],
        [
         "32",
         "good",
         "5",
         "2025-05-20",
         "Dashen Bank",
         "Google Play",
         "en"
        ],
        [
         "33",
         "its best",
         "5",
         "2025-05-19",
         "Dashen Bank",
         "Google Play",
         "en"
        ],
        [
         "34",
         "The best app ever in finance sector",
         "5",
         "2025-05-18",
         "Dashen Bank",
         "Google Play",
         "en"
        ],
        [
         "35",
         "Its good app than other compitators but it confuse when we transfer it needs OTP and PIN most user inter their pin instead of OTP we know the litrecy level of our society so if it is device based i dont know the needs of OTP so please try to fix",
         "3",
         "2025-05-18",
         "Dashen Bank",
         "Google Play",
         "en"
        ],
        [
         "36",
         "dashen bank or dashen super app?",
         "1",
         "2025-05-17",
         "Dashen Bank",
         "Google Play",
         "en"
        ],
        [
         "37",
         "wowwwe app",
         "5",
         "2025-05-17",
         "Dashen Bank",
         "Google Play",
         "en"
        ],
        [
         "38",
         "Transferring to other bank accounts is a hastle and inconvenient .Get used to seeing \" please try again \"",
         "2",
         "2025-05-17",
         "Dashen Bank",
         "Google Play",
         "en"
        ],
        [
         "39",
         "good",
         "5",
         "2025-05-16",
         "Dashen Bank",
         "Google Play",
         "en"
        ],
        [
         "40",
         "always lagging",
         "1",
         "2025-05-16",
         "Dashen Bank",
         "Google Play",
         "en"
        ],
        [
         "41",
         "Amazing Application...",
         "5",
         "2025-05-16",
         "Dashen Bank",
         "Google Play",
         "en"
        ],
        [
         "42",
         "Fantastic",
         "5",
         "2025-05-16",
         "Dashen Bank",
         "Google Play",
         "en"
        ],
        [
         "43",
         "Dashen bank app is very good, but sometimes it is not working well",
         "5",
         "2025-05-15",
         "Dashen Bank",
         "Google Play",
         "en"
        ],
        [
         "44",
         "its my choice",
         "5",
         "2025-05-15",
         "Dashen Bank",
         "Google Play",
         "en"
        ],
        [
         "45",
         "wow apo",
         "5",
         "2025-05-15",
         "Dashen Bank",
         "Google Play",
         "en"
        ],
        [
         "46",
         "awesome app keep going",
         "5",
         "2025-05-14",
         "Dashen Bank",
         "Google Play",
         "en"
        ],
        [
         "47",
         "wow",
         "5",
         "2025-05-14",
         "Dashen Bank",
         "Google Play",
         "en"
        ],
        [
         "48",
         "👍",
         "5",
         "2025-05-14",
         "Dashen Bank",
         "Google Play",
         "en"
        ],
        [
         "49",
         "It grows ethiopian digital banking step ahead.All fetures in one,simple fast and convince.",
         "5",
         "2025-05-14",
         "Dashen Bank",
         "Google Play",
         "en"
        ]
       ],
       "shape": {
        "columns": 6,
        "rows": 100
       }
      },
      "text/html": [
       "<div>\n",
       "<style scoped>\n",
       "    .dataframe tbody tr th:only-of-type {\n",
       "        vertical-align: middle;\n",
       "    }\n",
       "\n",
       "    .dataframe tbody tr th {\n",
       "        vertical-align: top;\n",
       "    }\n",
       "\n",
       "    .dataframe thead th {\n",
       "        text-align: right;\n",
       "    }\n",
       "</style>\n",
       "<table border=\"1\" class=\"dataframe\">\n",
       "  <thead>\n",
       "    <tr style=\"text-align: right;\">\n",
       "      <th></th>\n",
       "      <th>review</th>\n",
       "      <th>rating</th>\n",
       "      <th>date</th>\n",
       "      <th>bank</th>\n",
       "      <th>source</th>\n",
       "      <th>language</th>\n",
       "    </tr>\n",
       "  </thead>\n",
       "  <tbody>\n",
       "    <tr>\n",
       "      <th>0</th>\n",
       "      <td>love</td>\n",
       "      <td>3</td>\n",
       "      <td>2025-06-06</td>\n",
       "      <td>Dashen Bank</td>\n",
       "      <td>Google Play</td>\n",
       "      <td>en</td>\n",
       "    </tr>\n",
       "    <tr>\n",
       "      <th>1</th>\n",
       "      <td>መቸሸጠ</td>\n",
       "      <td>5</td>\n",
       "      <td>2025-06-03</td>\n",
       "      <td>Dashen Bank</td>\n",
       "      <td>Google Play</td>\n",
       "      <td>en</td>\n",
       "    </tr>\n",
       "    <tr>\n",
       "      <th>2</th>\n",
       "      <td>wow</td>\n",
       "      <td>5</td>\n",
       "      <td>2025-06-03</td>\n",
       "      <td>Dashen Bank</td>\n",
       "      <td>Google Play</td>\n",
       "      <td>en</td>\n",
       "    </tr>\n",
       "    <tr>\n",
       "      <th>3</th>\n",
       "      <td>gadaa</td>\n",
       "      <td>5</td>\n",
       "      <td>2025-06-01</td>\n",
       "      <td>Dashen Bank</td>\n",
       "      <td>Google Play</td>\n",
       "      <td>en</td>\n",
       "    </tr>\n",
       "    <tr>\n",
       "      <th>4</th>\n",
       "      <td>Massive upgrade from the Amole app.</td>\n",
       "      <td>5</td>\n",
       "      <td>2025-05-31</td>\n",
       "      <td>Dashen Bank</td>\n",
       "      <td>Google Play</td>\n",
       "      <td>en</td>\n",
       "    </tr>\n",
       "    <tr>\n",
       "      <th>...</th>\n",
       "      <td>...</td>\n",
       "      <td>...</td>\n",
       "      <td>...</td>\n",
       "      <td>...</td>\n",
       "      <td>...</td>\n",
       "      <td>...</td>\n",
       "    </tr>\n",
       "    <tr>\n",
       "      <th>95</th>\n",
       "      <td>This super app is a total game-changer—fast, r...</td>\n",
       "      <td>5</td>\n",
       "      <td>2025-04-23</td>\n",
       "      <td>Dashen Bank</td>\n",
       "      <td>Google Play</td>\n",
       "      <td>en</td>\n",
       "    </tr>\n",
       "    <tr>\n",
       "      <th>96</th>\n",
       "      <td>All in One ✍️secure ✍️reliable ✍️convenient. D...</td>\n",
       "      <td>5</td>\n",
       "      <td>2025-04-23</td>\n",
       "      <td>Dashen Bank</td>\n",
       "      <td>Google Play</td>\n",
       "      <td>en</td>\n",
       "    </tr>\n",
       "    <tr>\n",
       "      <th>97</th>\n",
       "      <td>it is incredible product.</td>\n",
       "      <td>5</td>\n",
       "      <td>2025-04-23</td>\n",
       "      <td>Dashen Bank</td>\n",
       "      <td>Google Play</td>\n",
       "      <td>en</td>\n",
       "    </tr>\n",
       "    <tr>\n",
       "      <th>98</th>\n",
       "      <td>I'm really impressed with this app! It’s user-...</td>\n",
       "      <td>5</td>\n",
       "      <td>2025-04-23</td>\n",
       "      <td>Dashen Bank</td>\n",
       "      <td>Google Play</td>\n",
       "      <td>en</td>\n",
       "    </tr>\n",
       "    <tr>\n",
       "      <th>99</th>\n",
       "      <td>best app</td>\n",
       "      <td>5</td>\n",
       "      <td>2025-04-23</td>\n",
       "      <td>Dashen Bank</td>\n",
       "      <td>Google Play</td>\n",
       "      <td>en</td>\n",
       "    </tr>\n",
       "  </tbody>\n",
       "</table>\n",
       "<p>100 rows × 6 columns</p>\n",
       "</div>"
      ],
      "text/plain": [
       "                                               review  rating        date  \\\n",
       "0                                                love       3  2025-06-06   \n",
       "1                                                መቸሸጠ       5  2025-06-03   \n",
       "2                                                 wow       5  2025-06-03   \n",
       "3                                               gadaa       5  2025-06-01   \n",
       "4                 Massive upgrade from the Amole app.       5  2025-05-31   \n",
       "..                                                ...     ...         ...   \n",
       "95  This super app is a total game-changer—fast, r...       5  2025-04-23   \n",
       "96  All in One ✍️secure ✍️reliable ✍️convenient. D...       5  2025-04-23   \n",
       "97                          it is incredible product.       5  2025-04-23   \n",
       "98  I'm really impressed with this app! It’s user-...       5  2025-04-23   \n",
       "99                                           best app       5  2025-04-23   \n",
       "\n",
       "           bank       source language  \n",
       "0   Dashen Bank  Google Play       en  \n",
       "1   Dashen Bank  Google Play       en  \n",
       "2   Dashen Bank  Google Play       en  \n",
       "3   Dashen Bank  Google Play       en  \n",
       "4   Dashen Bank  Google Play       en  \n",
       "..          ...          ...      ...  \n",
       "95  Dashen Bank  Google Play       en  \n",
       "96  Dashen Bank  Google Play       en  \n",
       "97  Dashen Bank  Google Play       en  \n",
       "98  Dashen Bank  Google Play       en  \n",
       "99  Dashen Bank  Google Play       en  \n",
       "\n",
       "[100 rows x 6 columns]"
      ]
     },
     "execution_count": 2,
     "metadata": {},
     "output_type": "execute_result"
    }
   ],
   "source": [
    "# notebooks/preprocess_main.ipynb\n",
    "import os\n",
    "import sys\n",
    "import pandas as pd\n",
    "# Add the scripts directory to the Python path\n",
    "scripts_path = os.path.abspath('../scripts')\n",
    "if scripts_path not in sys.path:\n",
    "    sys.path.append(scripts_path)\n",
    "\n",
    "try:\n",
    "    \n",
    "    from preprocess_reviews import ReviewPreprocessor\n",
    "\n",
    "except ModuleNotFoundError:\n",
    "    # If the import fails, provide a helpful error message\n",
    "    raise ModuleNotFoundError(\n",
    "        \"Could not find 'preprocess_reviews.py' in '../scripts'. \"\n",
    "        \"Please ensure the file exists and the path is correct.\"\n",
    "    )\n",
    "\n",
    "\n",
    "\n",
    "input_path = '../data/raw_reviews.csv'\n",
    "output_path = '../data/cleaned_reviews.csv'\n",
    "\n",
    "df = pd.read_csv(input_path)\n",
    "\n",
    "preprocessor = ReviewPreprocessor(df)\n",
    "preprocessor.drop_missing()\n",
    "preprocessor.drop_duplicates()\n",
    "preprocessor.normalize_dates()\n",
    "preprocessor.prepare_columns()\n",
    "clean_df = preprocessor.get_cleaned_data()\n",
    "\n",
    "clean_df.to_csv(output_path, index=False, encoding='utf-8-sig')\n",
    "print(f\"Cleaned data saved to {output_path}\")\n",
    "\n",
    "clean_df.head(100)\n"
   ]
  },
  {
   "cell_type": "code",
   "execution_count": 16,
   "id": "a7f1759e",
   "metadata": {},
   "outputs": [
    {
     "name": "stdout",
     "output_type": "stream",
     "text": [
      "<class 'pandas.core.frame.DataFrame'>\n",
      "RangeIndex: 2963 entries, 0 to 2962\n",
      "Data columns (total 6 columns):\n",
      " #   Column    Non-Null Count  Dtype \n",
      "---  ------    --------------  ----- \n",
      " 0   review    2963 non-null   object\n",
      " 1   rating    2963 non-null   int64 \n",
      " 2   date      2963 non-null   object\n",
      " 3   bank      2963 non-null   object\n",
      " 4   source    2963 non-null   object\n",
      " 5   language  2963 non-null   object\n",
      "dtypes: int64(1), object(5)\n",
      "memory usage: 139.0+ KB\n"
     ]
    }
   ],
   "source": [
    "clean_df.info()\n",
    "# Display the first few rows of the cleaned DataFrame"
   ]
  },
  {
   "cell_type": "code",
   "execution_count": 15,
   "id": "d93ae1d2",
   "metadata": {},
   "outputs": [
    {
     "data": {
      "text/plain": [
       "(2963, 6)"
      ]
     },
     "execution_count": 15,
     "metadata": {},
     "output_type": "execute_result"
    }
   ],
   "source": [
    "clean_df.shape"
   ]
  },
  {
   "cell_type": "code",
   "execution_count": 17,
   "id": "6fbf566d",
   "metadata": {},
   "outputs": [
    {
     "data": {
      "application/vnd.microsoft.datawrangler.viewer.v0+json": {
       "columns": [
        {
         "name": "index",
         "rawType": "object",
         "type": "string"
        },
        {
         "name": "rating",
         "rawType": "float64",
         "type": "float"
        }
       ],
       "ref": "cb02b3fb-a34c-41a7-9429-627b800dbf64",
       "rows": [
        [
         "count",
         "2963.0"
        ],
        [
         "mean",
         "3.90988862639217"
        ],
        [
         "std",
         "1.6371510084469034"
        ],
        [
         "min",
         "1.0"
        ],
        [
         "25%",
         "3.0"
        ],
        [
         "50%",
         "5.0"
        ],
        [
         "75%",
         "5.0"
        ],
        [
         "max",
         "5.0"
        ]
       ],
       "shape": {
        "columns": 1,
        "rows": 8
       }
      },
      "text/html": [
       "<div>\n",
       "<style scoped>\n",
       "    .dataframe tbody tr th:only-of-type {\n",
       "        vertical-align: middle;\n",
       "    }\n",
       "\n",
       "    .dataframe tbody tr th {\n",
       "        vertical-align: top;\n",
       "    }\n",
       "\n",
       "    .dataframe thead th {\n",
       "        text-align: right;\n",
       "    }\n",
       "</style>\n",
       "<table border=\"1\" class=\"dataframe\">\n",
       "  <thead>\n",
       "    <tr style=\"text-align: right;\">\n",
       "      <th></th>\n",
       "      <th>rating</th>\n",
       "    </tr>\n",
       "  </thead>\n",
       "  <tbody>\n",
       "    <tr>\n",
       "      <th>count</th>\n",
       "      <td>2963.000000</td>\n",
       "    </tr>\n",
       "    <tr>\n",
       "      <th>mean</th>\n",
       "      <td>3.909889</td>\n",
       "    </tr>\n",
       "    <tr>\n",
       "      <th>std</th>\n",
       "      <td>1.637151</td>\n",
       "    </tr>\n",
       "    <tr>\n",
       "      <th>min</th>\n",
       "      <td>1.000000</td>\n",
       "    </tr>\n",
       "    <tr>\n",
       "      <th>25%</th>\n",
       "      <td>3.000000</td>\n",
       "    </tr>\n",
       "    <tr>\n",
       "      <th>50%</th>\n",
       "      <td>5.000000</td>\n",
       "    </tr>\n",
       "    <tr>\n",
       "      <th>75%</th>\n",
       "      <td>5.000000</td>\n",
       "    </tr>\n",
       "    <tr>\n",
       "      <th>max</th>\n",
       "      <td>5.000000</td>\n",
       "    </tr>\n",
       "  </tbody>\n",
       "</table>\n",
       "</div>"
      ],
      "text/plain": [
       "            rating\n",
       "count  2963.000000\n",
       "mean      3.909889\n",
       "std       1.637151\n",
       "min       1.000000\n",
       "25%       3.000000\n",
       "50%       5.000000\n",
       "75%       5.000000\n",
       "max       5.000000"
      ]
     },
     "execution_count": 17,
     "metadata": {},
     "output_type": "execute_result"
    }
   ],
   "source": [
    "clean_df.describe()"
   ]
  },
  {
   "cell_type": "code",
   "execution_count": 20,
   "id": "9bce4347",
   "metadata": {},
   "outputs": [
    {
     "name": "stdout",
     "output_type": "stream",
     "text": [
      "                     Bank Name  Number of Reviews\n",
      "0  Commercial Bank of Ethiopia               1054\n",
      "1            Bank of Abyssinia               1012\n",
      "2                  Dashen Bank                897\n"
     ]
    }
   ],
   "source": [
    "# Count number of reviews per bank\n",
    "review_counts = clean_df['bank'].value_counts().reset_index()\n",
    "review_counts.columns = ['Bank Name', 'Number of Reviews']\n",
    "#review_counts = df_cleaned['bank'].value_counts().reset_index()\n",
    "#review_counts.columns = ['Bank Name', 'Number of Reviews']\n",
    "\n",
    "print(review_counts)\n"
   ]
  },
  {
   "cell_type": "code",
   "execution_count": 25,
   "id": "2837bc6b",
   "metadata": {},
   "outputs": [
    {
     "name": "stdout",
     "output_type": "stream",
     "text": [
      "✅ Review counts saved to 'data/review_counts_per_bank.csv'\n"
     ]
    }
   ],
   "source": [
    "clean_df.groupby('bank').size().reset_index(name='Number of Reviews')\n",
    "# Group by 'bank' and count the number of reviews for each bank\n",
    "# Display the review counts DataFrame\n",
    "\n",
    "review_counts.head()\n",
    "# Save to CSV\n",
    "os.makedirs('data', exist_ok=True)\n",
    "\n",
    "review_counts.to_csv('data/review_counts_per_bank.csv', index=False, encoding='utf-8-sig')\n",
    "print(\"✅ Review counts saved to 'data/review_counts_per_bank.csv'\")\n",
    "# Display the first few rows of the review counts DataFrame"
   ]
  },
  {
   "cell_type": "code",
   "execution_count": null,
   "id": "402ea8b7",
   "metadata": {},
   "outputs": [
    {
     "name": "stdout",
     "output_type": "stream",
     "text": [
      "Collecting matplotlib\n",
      "  Using cached matplotlib-3.10.3-cp313-cp313-win_amd64.whl.metadata (11 kB)\n",
      "Collecting contourpy>=1.0.1 (from matplotlib)\n",
      "  Using cached contourpy-1.3.2-cp313-cp313-win_amd64.whl.metadata (5.5 kB)\n",
      "Collecting cycler>=0.10 (from matplotlib)\n",
      "  Using cached cycler-0.12.1-py3-none-any.whl.metadata (3.8 kB)\n",
      "Collecting fonttools>=4.22.0 (from matplotlib)\n",
      "  Downloading fonttools-4.58.2-cp313-cp313-win_amd64.whl.metadata (108 kB)\n",
      "Collecting kiwisolver>=1.3.1 (from matplotlib)\n",
      "  Using cached kiwisolver-1.4.8-cp313-cp313-win_amd64.whl.metadata (6.3 kB)\n",
      "Requirement already satisfied: numpy>=1.23 in d:\\kifiya ai master training program 5 6 &7\\week-2\\customer experience analytics for fintech apps\\.venv\\lib\\site-packages (from matplotlib) (2.2.6)\n",
      "Requirement already satisfied: packaging>=20.0 in d:\\kifiya ai master training program 5 6 &7\\week-2\\customer experience analytics for fintech apps\\.venv\\lib\\site-packages (from matplotlib) (25.0)\n",
      "Collecting pillow>=8 (from matplotlib)\n",
      "  Using cached pillow-11.2.1-cp313-cp313-win_amd64.whl.metadata (9.1 kB)\n",
      "Collecting pyparsing>=2.3.1 (from matplotlib)\n",
      "  Using cached pyparsing-3.2.3-py3-none-any.whl.metadata (5.0 kB)\n",
      "Requirement already satisfied: python-dateutil>=2.7 in d:\\kifiya ai master training program 5 6 &7\\week-2\\customer experience analytics for fintech apps\\.venv\\lib\\site-packages (from matplotlib) (2.9.0.post0)\n",
      "Requirement already satisfied: six>=1.5 in d:\\kifiya ai master training program 5 6 &7\\week-2\\customer experience analytics for fintech apps\\.venv\\lib\\site-packages (from python-dateutil>=2.7->matplotlib) (1.17.0)\n",
      "Using cached matplotlib-3.10.3-cp313-cp313-win_amd64.whl (8.1 MB)\n",
      "Using cached contourpy-1.3.2-cp313-cp313-win_amd64.whl (223 kB)\n",
      "Using cached cycler-0.12.1-py3-none-any.whl (8.3 kB)\n",
      "Downloading fonttools-4.58.2-cp313-cp313-win_amd64.whl (2.2 MB)\n",
      "   ---------------------------------------- 0.0/2.2 MB ? eta -:--:--\n",
      "   ---------------------------------------- 0.0/2.2 MB ? eta -:--:--\n",
      "   ---------------------------------------- 0.0/2.2 MB ? eta -:--:--\n",
      "   ---------------------------------------- 0.0/2.2 MB ? eta -:--:--\n",
      "   ---------------------------------------- 0.0/2.2 MB ? eta -:--:--\n",
      "   ---------------------------------------- 0.0/2.2 MB ? eta -:--:--\n",
      "   ---------------------------------------- 0.0/2.2 MB ? eta -:--:--\n",
      "   ---------------------------------------- 0.0/2.2 MB ? eta -:--:--\n",
      "   ---------------------------------------- 0.0/2.2 MB ? eta -:--:--\n",
      "   ---------------------------------------- 0.0/2.2 MB ? eta -:--:--\n",
      "   ---------------------------------------- 0.0/2.2 MB ? eta -:--:--\n",
      "   ---------------------------------------- 0.0/2.2 MB ? eta -:--:--\n",
      "   ---------------------------------------- 0.0/2.2 MB ? eta -:--:--\n",
      "   ---------------------------------------- 0.0/2.2 MB ? eta -:--:--\n",
      "   ---------------------------------------- 0.0/2.2 MB ? eta -:--:--\n",
      "   ---------------------------------------- 0.0/2.2 MB ? eta -:--:--\n",
      "   ---------------------------------------- 0.0/2.2 MB ? eta -:--:--\n",
      "   ---- ----------------------------------- 0.3/2.2 MB ? eta -:--:--\n",
      "   ---- ----------------------------------- 0.3/2.2 MB ? eta -:--:--\n",
      "   ---- ----------------------------------- 0.3/2.2 MB ? eta -:--:--\n",
      "   ---- ----------------------------------- 0.3/2.2 MB ? eta -:--:--\n",
      "   ---- ----------------------------------- 0.3/2.2 MB ? eta -:--:--\n",
      "   ---- ----------------------------------- 0.3/2.2 MB ? eta -:--:--\n",
      "   ---- ----------------------------------- 0.3/2.2 MB ? eta -:--:--\n",
      "   --------- ------------------------------ 0.5/2.2 MB 183.2 kB/s eta 0:00:10\n",
      "   --------- ------------------------------ 0.5/2.2 MB 183.2 kB/s eta 0:00:10\n",
      "   --------- ------------------------------ 0.5/2.2 MB 183.2 kB/s eta 0:00:10\n",
      "   --------- ------------------------------ 0.5/2.2 MB 183.2 kB/s eta 0:00:10\n",
      "   --------- ------------------------------ 0.5/2.2 MB 183.2 kB/s eta 0:00:10\n",
      "   --------- ------------------------------ 0.5/2.2 MB 183.2 kB/s eta 0:00:10\n",
      "   -------------- ------------------------- 0.8/2.2 MB 190.6 kB/s eta 0:00:08\n",
      "   -------------- ------------------------- 0.8/2.2 MB 190.6 kB/s eta 0:00:08\n",
      "   -------------- ------------------------- 0.8/2.2 MB 190.6 kB/s eta 0:00:08\n",
      "   -------------- ------------------------- 0.8/2.2 MB 190.6 kB/s eta 0:00:08\n",
      "   -------------- ------------------------- 0.8/2.2 MB 190.6 kB/s eta 0:00:08\n",
      "   -------------- ------------------------- 0.8/2.2 MB 190.6 kB/s eta 0:00:08\n",
      "   -------------- ------------------------- 0.8/2.2 MB 190.6 kB/s eta 0:00:08\n",
      "   -------------- ------------------------- 0.8/2.2 MB 190.6 kB/s eta 0:00:08\n",
      "   ------------------ --------------------- 1.0/2.2 MB 181.3 kB/s eta 0:00:07\n",
      "   ------------------ --------------------- 1.0/2.2 MB 181.3 kB/s eta 0:00:07\n",
      "   ------------------ --------------------- 1.0/2.2 MB 181.3 kB/s eta 0:00:07\n",
      "   ----------------------- ---------------- 1.3/2.2 MB 205.3 kB/s eta 0:00:05\n",
      "   ----------------------- ---------------- 1.3/2.2 MB 205.3 kB/s eta 0:00:05\n",
      "   ----------------------- ---------------- 1.3/2.2 MB 205.3 kB/s eta 0:00:05\n",
      "   ----------------------- ---------------- 1.3/2.2 MB 205.3 kB/s eta 0:00:05\n",
      "   ----------------------- ---------------- 1.3/2.2 MB 205.3 kB/s eta 0:00:05\n",
      "   ----------------------- ---------------- 1.3/2.2 MB 205.3 kB/s eta 0:00:05\n",
      "   ---------------------------- ----------- 1.6/2.2 MB 204.3 kB/s eta 0:00:04\n",
      "   ---------------------------- ----------- 1.6/2.2 MB 204.3 kB/s eta 0:00:04\n",
      "   ---------------------------- ----------- 1.6/2.2 MB 204.3 kB/s eta 0:00:04\n",
      "   ---------------------------- ----------- 1.6/2.2 MB 204.3 kB/s eta 0:00:04\n",
      "   -------------------------------- ------- 1.8/2.2 MB 221.5 kB/s eta 0:00:02\n",
      "   -------------------------------- ------- 1.8/2.2 MB 221.5 kB/s eta 0:00:02\n",
      "   -------------------------------- ------- 1.8/2.2 MB 221.5 kB/s eta 0:00:02\n",
      "   -------------------------------- ------- 1.8/2.2 MB 221.5 kB/s eta 0:00:02\n",
      "   -------------------------------- ------- 1.8/2.2 MB 221.5 kB/s eta 0:00:02\n",
      "   -------------------------------- ------- 1.8/2.2 MB 221.5 kB/s eta 0:00:02\n",
      "   -------------------------------- ------- 1.8/2.2 MB 221.5 kB/s eta 0:00:02\n",
      "   ------------------------------------- -- 2.1/2.2 MB 214.8 kB/s eta 0:00:01\n",
      "   ------------------------------------- -- 2.1/2.2 MB 214.8 kB/s eta 0:00:01\n",
      "   ------------------------------------- -- 2.1/2.2 MB 214.8 kB/s eta 0:00:01\n",
      "   ---------------------------------------- 2.2/2.2 MB 213.8 kB/s eta 0:00:00\n",
      "Using cached kiwisolver-1.4.8-cp313-cp313-win_amd64.whl (71 kB)\n",
      "Using cached pillow-11.2.1-cp313-cp313-win_amd64.whl (2.7 MB)\n",
      "Using cached pyparsing-3.2.3-py3-none-any.whl (111 kB)\n",
      "Installing collected packages: pyparsing, pillow, kiwisolver, fonttools, cycler, contourpy, matplotlib\n",
      "\n",
      "   ---------------------------------------- 0/7 [pyparsing]\n",
      "   ---------------------------------------- 0/7 [pyparsing]\n",
      "   ----- ---------------------------------- 1/7 [pillow]\n",
      "   ----- ---------------------------------- 1/7 [pillow]\n",
      "   ----- ---------------------------------- 1/7 [pillow]\n",
      "   ----- ---------------------------------- 1/7 [pillow]\n",
      "   ----- ---------------------------------- 1/7 [pillow]\n",
      "   ----- ---------------------------------- 1/7 [pillow]\n",
      "   ----- ---------------------------------- 1/7 [pillow]\n",
      "   ----- ---------------------------------- 1/7 [pillow]\n",
      "   ----- ---------------------------------- 1/7 [pillow]\n",
      "   ----- ---------------------------------- 1/7 [pillow]\n",
      "   ----- ---------------------------------- 1/7 [pillow]\n",
      "   ----- ---------------------------------- 1/7 [pillow]\n",
      "   ----- ---------------------------------- 1/7 [pillow]\n",
      "   ----- ---------------------------------- 1/7 [pillow]\n",
      "   ----- ---------------------------------- 1/7 [pillow]\n",
      "   ----------- ---------------------------- 2/7 [kiwisolver]\n",
      "   ----------------- ---------------------- 3/7 [fonttools]\n",
      "   ----------------- ---------------------- 3/7 [fonttools]\n",
      "   ----------------- ---------------------- 3/7 [fonttools]\n",
      "   ----------------- ---------------------- 3/7 [fonttools]\n",
      "   ----------------- ---------------------- 3/7 [fonttools]\n",
      "   ----------------- ---------------------- 3/7 [fonttools]\n",
      "   ----------------- ---------------------- 3/7 [fonttools]\n",
      "   ----------------- ---------------------- 3/7 [fonttools]\n",
      "   ----------------- ---------------------- 3/7 [fonttools]\n",
      "   ----------------- ---------------------- 3/7 [fonttools]\n",
      "   ----------------- ---------------------- 3/7 [fonttools]\n",
      "   ----------------- ---------------------- 3/7 [fonttools]\n",
      "   ----------------- ---------------------- 3/7 [fonttools]\n",
      "   ----------------- ---------------------- 3/7 [fonttools]\n",
      "   ----------------- ---------------------- 3/7 [fonttools]\n",
      "   ----------------- ---------------------- 3/7 [fonttools]\n",
      "   ----------------- ---------------------- 3/7 [fonttools]\n",
      "   ----------------- ---------------------- 3/7 [fonttools]\n",
      "   ----------------- ---------------------- 3/7 [fonttools]\n",
      "   ----------------- ---------------------- 3/7 [fonttools]\n",
      "   ----------------- ---------------------- 3/7 [fonttools]\n",
      "   ----------------- ---------------------- 3/7 [fonttools]\n",
      "   ----------------- ---------------------- 3/7 [fonttools]\n",
      "   ----------------- ---------------------- 3/7 [fonttools]\n",
      "   ----------------- ---------------------- 3/7 [fonttools]\n",
      "   ----------------- ---------------------- 3/7 [fonttools]\n",
      "   ----------------- ---------------------- 3/7 [fonttools]\n",
      "   ----------------- ---------------------- 3/7 [fonttools]\n",
      "   ----------------- ---------------------- 3/7 [fonttools]\n",
      "   ----------------- ---------------------- 3/7 [fonttools]\n",
      "   ----------------- ---------------------- 3/7 [fonttools]\n",
      "   ----------------- ---------------------- 3/7 [fonttools]\n",
      "   ----------------- ---------------------- 3/7 [fonttools]\n",
      "   ----------------- ---------------------- 3/7 [fonttools]\n",
      "   ----------------- ---------------------- 3/7 [fonttools]\n",
      "   ----------------- ---------------------- 3/7 [fonttools]\n",
      "   ----------------- ---------------------- 3/7 [fonttools]\n",
      "   ----------------- ---------------------- 3/7 [fonttools]\n",
      "   ----------------- ---------------------- 3/7 [fonttools]\n",
      "   ----------------- ---------------------- 3/7 [fonttools]\n",
      "   ----------------- ---------------------- 3/7 [fonttools]\n",
      "   ----------------- ---------------------- 3/7 [fonttools]\n",
      "   ----------------- ---------------------- 3/7 [fonttools]\n",
      "   ----------------- ---------------------- 3/7 [fonttools]\n",
      "   ----------------- ---------------------- 3/7 [fonttools]\n",
      "   ---------------------------- ----------- 5/7 [contourpy]\n",
      "   ---------------------------- ----------- 5/7 [contourpy]\n",
      "   ---------------------------------- ----- 6/7 [matplotlib]\n",
      "   ---------------------------------- ----- 6/7 [matplotlib]\n",
      "   ---------------------------------- ----- 6/7 [matplotlib]\n",
      "   ---------------------------------- ----- 6/7 [matplotlib]\n",
      "   ---------------------------------- ----- 6/7 [matplotlib]\n",
      "   ---------------------------------- ----- 6/7 [matplotlib]\n",
      "   ---------------------------------- ----- 6/7 [matplotlib]\n",
      "   ---------------------------------- ----- 6/7 [matplotlib]\n",
      "   ---------------------------------- ----- 6/7 [matplotlib]\n",
      "   ---------------------------------- ----- 6/7 [matplotlib]\n",
      "   ---------------------------------- ----- 6/7 [matplotlib]\n",
      "   ---------------------------------- ----- 6/7 [matplotlib]\n",
      "   ---------------------------------- ----- 6/7 [matplotlib]\n",
      "   ---------------------------------- ----- 6/7 [matplotlib]\n",
      "   ---------------------------------- ----- 6/7 [matplotlib]\n",
      "   ---------------------------------- ----- 6/7 [matplotlib]\n",
      "   ---------------------------------- ----- 6/7 [matplotlib]\n",
      "   ---------------------------------- ----- 6/7 [matplotlib]\n",
      "   ---------------------------------- ----- 6/7 [matplotlib]\n",
      "   ---------------------------------- ----- 6/7 [matplotlib]\n",
      "   ---------------------------------- ----- 6/7 [matplotlib]\n",
      "   ---------------------------------- ----- 6/7 [matplotlib]\n",
      "   ---------------------------------- ----- 6/7 [matplotlib]\n",
      "   ---------------------------------- ----- 6/7 [matplotlib]\n",
      "   ---------------------------------- ----- 6/7 [matplotlib]\n",
      "   ---------------------------------- ----- 6/7 [matplotlib]\n",
      "   ---------------------------------- ----- 6/7 [matplotlib]\n",
      "   ---------------------------------- ----- 6/7 [matplotlib]\n",
      "   ---------------------------------- ----- 6/7 [matplotlib]\n",
      "   ---------------------------------- ----- 6/7 [matplotlib]\n",
      "   ---------------------------------- ----- 6/7 [matplotlib]\n",
      "   ---------------------------------- ----- 6/7 [matplotlib]\n",
      "   ---------------------------------- ----- 6/7 [matplotlib]\n",
      "   ---------------------------------- ----- 6/7 [matplotlib]\n",
      "   ---------------------------------- ----- 6/7 [matplotlib]\n",
      "   ---------------------------------- ----- 6/7 [matplotlib]\n",
      "   ---------------------------------- ----- 6/7 [matplotlib]\n",
      "   ---------------------------------- ----- 6/7 [matplotlib]\n",
      "   ---------------------------------- ----- 6/7 [matplotlib]\n",
      "   ---------------------------------- ----- 6/7 [matplotlib]\n",
      "   ---------------------------------- ----- 6/7 [matplotlib]\n",
      "   ---------------------------------- ----- 6/7 [matplotlib]\n",
      "   ---------------------------------- ----- 6/7 [matplotlib]\n",
      "   ---------------------------------- ----- 6/7 [matplotlib]\n",
      "   ---------------------------------- ----- 6/7 [matplotlib]\n",
      "   ---------------------------------- ----- 6/7 [matplotlib]\n",
      "   ---------------------------------- ----- 6/7 [matplotlib]\n",
      "   ---------------------------------- ----- 6/7 [matplotlib]\n",
      "   ---------------------------------- ----- 6/7 [matplotlib]\n",
      "   ---------------------------------- ----- 6/7 [matplotlib]\n",
      "   ---------------------------------- ----- 6/7 [matplotlib]\n",
      "   ---------------------------------- ----- 6/7 [matplotlib]\n",
      "   ---------------------------------- ----- 6/7 [matplotlib]\n",
      "   ---------------------------------- ----- 6/7 [matplotlib]\n",
      "   ---------------------------------------- 7/7 [matplotlib]\n",
      "\n",
      "Successfully installed contourpy-1.3.2 cycler-0.12.1 fonttools-4.58.2 kiwisolver-1.4.8 matplotlib-3.10.3 pillow-11.2.1 pyparsing-3.2.3\n",
      "Note: you may need to restart the kernel to use updated packages.\n"
     ]
    },
    {
     "data": {
      "image/png": "[encoded data removed]",
      "text/plain": [
       "<Figure size 1000x600 with 1 Axes>"
      ]
     },
     "metadata": {},
     "output_type": "display_data"
    }
   ],
   "source": [
    "%pip install matplotlib\n",
    "import matplotlib.pyplot as plt\n",
    "\n",
    "# Bar chart\n",
    "plt.figure(figsize=(10, 6))\n",
    "plt.bar(review_counts['Bank Name'], review_counts['Number of Reviews'], color='skyblue')\n",
    "plt.title('Number of Reviews per Bank')\n",
    "plt.xlabel('Bank')\n",
    "plt.ylabel('Number of Reviews')\n",
    "plt.xticks(rotation=15)\n",
    "plt.tight_layout()\n",
    "plt.grid(axis='y', linestyle='--', alpha=0.7)\n",
    "plt.show()\n"
   ]
  },
  {
   "cell_type": "code",
   "execution_count": 28,
   "id": "2b1e7d92",
   "metadata": {},
   "outputs": [
    {
     "name": "stdout",
     "output_type": "stream",
     "text": [
      "Collecting seaborn\n",
      "  Using cached seaborn-0.13.2-py3-none-any.whl.metadata (5.4 kB)\n",
      "Requirement already satisfied: numpy!=1.24.0,>=1.20 in d:\\kifiya ai master training program 5 6 &7\\week-2\\customer experience analytics for fintech apps\\.venv\\lib\\site-packages (from seaborn) (2.2.6)\n",
      "Requirement already satisfied: pandas>=1.2 in d:\\kifiya ai master training program 5 6 &7\\week-2\\customer experience analytics for fintech apps\\.venv\\lib\\site-packages (from seaborn) (2.3.0)\n",
      "Requirement already satisfied: matplotlib!=3.6.1,>=3.4 in d:\\kifiya ai master training program 5 6 &7\\week-2\\customer experience analytics for fintech apps\\.venv\\lib\\site-packages (from seaborn) (3.10.3)\n",
      "Requirement already satisfied: contourpy>=1.0.1 in d:\\kifiya ai master training program 5 6 &7\\week-2\\customer experience analytics for fintech apps\\.venv\\lib\\site-packages (from matplotlib!=3.6.1,>=3.4->seaborn) (1.3.2)\n",
      "Requirement already satisfied: cycler>=0.10 in d:\\kifiya ai master training program 5 6 &7\\week-2\\customer experience analytics for fintech apps\\.venv\\lib\\site-packages (from matplotlib!=3.6.1,>=3.4->seaborn) (0.12.1)\n",
      "Requirement already satisfied: fonttools>=4.22.0 in d:\\kifiya ai master training program 5 6 &7\\week-2\\customer experience analytics for fintech apps\\.venv\\lib\\site-packages (from matplotlib!=3.6.1,>=3.4->seaborn) (4.58.2)\n",
      "Requirement already satisfied: kiwisolver>=1.3.1 in d:\\kifiya ai master training program 5 6 &7\\week-2\\customer experience analytics for fintech apps\\.venv\\lib\\site-packages (from matplotlib!=3.6.1,>=3.4->seaborn) (1.4.8)\n",
      "Requirement already satisfied: packaging>=20.0 in d:\\kifiya ai master training program 5 6 &7\\week-2\\customer experience analytics for fintech apps\\.venv\\lib\\site-packages (from matplotlib!=3.6.1,>=3.4->seaborn) (25.0)\n",
      "Requirement already satisfied: pillow>=8 in d:\\kifiya ai master training program 5 6 &7\\week-2\\customer experience analytics for fintech apps\\.venv\\lib\\site-packages (from matplotlib!=3.6.1,>=3.4->seaborn) (11.2.1)\n",
      "Requirement already satisfied: pyparsing>=2.3.1 in d:\\kifiya ai master training program 5 6 &7\\week-2\\customer experience analytics for fintech apps\\.venv\\lib\\site-packages (from matplotlib!=3.6.1,>=3.4->seaborn) (3.2.3)\n",
      "Requirement already satisfied: python-dateutil>=2.7 in d:\\kifiya ai master training program 5 6 &7\\week-2\\customer experience analytics for fintech apps\\.venv\\lib\\site-packages (from matplotlib!=3.6.1,>=3.4->seaborn) (2.9.0.post0)\n",
      "Requirement already satisfied: pytz>=2020.1 in d:\\kifiya ai master training program 5 6 &7\\week-2\\customer experience analytics for fintech apps\\.venv\\lib\\site-packages (from pandas>=1.2->seaborn) (2025.2)\n",
      "Requirement already satisfied: tzdata>=2022.7 in d:\\kifiya ai master training program 5 6 &7\\week-2\\customer experience analytics for fintech apps\\.venv\\lib\\site-packages (from pandas>=1.2->seaborn) (2025.2)\n",
      "Requirement already satisfied: six>=1.5 in d:\\kifiya ai master training program 5 6 &7\\week-2\\customer experience analytics for fintech apps\\.venv\\lib\\site-packages (from python-dateutil>=2.7->matplotlib!=3.6.1,>=3.4->seaborn) (1.17.0)\n",
      "Using cached seaborn-0.13.2-py3-none-any.whl (294 kB)\n",
      "Installing collected packages: seaborn\n",
      "Successfully installed seaborn-0.13.2\n",
      "Note: you may need to restart the kernel to use updated packages.\n"
     ]
    },
    {
     "name": "stderr",
     "output_type": "stream",
     "text": [
      "C:\\Users\\getde\\AppData\\Local\\Temp\\ipykernel_30456\\3867367694.py:7: FutureWarning: \n",
      "\n",
      "Passing `palette` without assigning `hue` is deprecated and will be removed in v0.14.0. Assign the `x` variable to `hue` and set `legend=False` for the same effect.\n",
      "\n",
      "  sns.barplot(data=review_counts, x='Bank Name', y='Number of Reviews', palette='viridis')\n"
     ]
    },
    {
     "data": {
      "image/png": "[encoded data removed]",
      "text/plain": [
       "<Figure size 1000x600 with 1 Axes>"
      ]
     },
     "metadata": {},
     "output_type": "display_data"
    }
   ],
   "source": [
    "%pip install seaborn\n",
    "import seaborn as sns\n",
    "import matplotlib.pyplot as plt\n",
    "\n",
    "# Seaborn barplot\n",
    "plt.figure(figsize=(10, 6))\n",
    "sns.barplot(data=review_counts, x='Bank Name', y='Number of Reviews', palette='viridis')\n",
    "plt.title('Number of Reviews per Bank')\n",
    "plt.xlabel('Bank')\n",
    "plt.ylabel('Number of Reviews')\n",
    "plt.xticks(rotation=15)\n",
    "plt.tight_layout()\n",
    "plt.grid(axis='y', linestyle='--', alpha=0.7)\n",
    "plt.show()\n"
   ]
  }
 ],
 "metadata": {
  "kernelspec": {
   "display_name": ".venv",
   "language": "python",
   "name": "python3"
  },
  "language_info": {
   "codemirror_mode": {
    "name": "ipython",
    "version": 3
   },
   "file_extension": ".py",
   "mimetype": "text/x-python",
   "name": "python",
   "nbconvert_exporter": "python",
   "pygments_lexer": "ipython3",
   "version": "3.13.3"
  }
 },
 "nbformat": 4,
 "nbformat_minor": 5
}
